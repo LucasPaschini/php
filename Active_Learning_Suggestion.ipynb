{
  "cells": [
    {
      "cell_type": "markdown",
      "metadata": {
        "id": "view-in-github",
        "colab_type": "text"
      },
      "source": [
        "<a href=\"https://colab.research.google.com/github/LucasPaschini/php/blob/main/Active_Learning_Suggestion.ipynb\" target=\"_parent\"><img src=\"https://colab.research.google.com/assets/colab-badge.svg\" alt=\"Open In Colab\"/></a>"
      ]
    },
    {
      "cell_type": "markdown",
      "id": "cc8b292d",
      "metadata": {
        "id": "cc8b292d"
      },
      "source": [
        "# Training section"
      ]
    },
    {
      "cell_type": "code",
      "execution_count": null,
      "id": "9f388cae",
      "metadata": {
        "id": "9f388cae",
        "outputId": "19311cb6-af09-4553-c3e8-78c4edd36c63",
        "colab": {
          "base_uri": "https://localhost:8080/",
          "height": 397
        }
      },
      "outputs": [
        {
          "output_type": "error",
          "ename": "ModuleNotFoundError",
          "evalue": "No module named 'ase'",
          "traceback": [
            "\u001b[0;31m---------------------------------------------------------------------------\u001b[0m",
            "\u001b[0;31mModuleNotFoundError\u001b[0m                       Traceback (most recent call last)",
            "\u001b[0;32m<ipython-input-1-07ab4d1e4fdf>\u001b[0m in \u001b[0;36m<cell line: 1>\u001b[0;34m()\u001b[0m\n\u001b[0;32m----> 1\u001b[0;31m \u001b[0;32mfrom\u001b[0m \u001b[0mase\u001b[0m\u001b[0;34m.\u001b[0m\u001b[0mio\u001b[0m \u001b[0;32mimport\u001b[0m \u001b[0mread\u001b[0m\u001b[0;34m\u001b[0m\u001b[0;34m\u001b[0m\u001b[0m\n\u001b[0m\u001b[1;32m      2\u001b[0m \u001b[0;32mimport\u001b[0m \u001b[0mglob\u001b[0m\u001b[0;34m\u001b[0m\u001b[0;34m\u001b[0m\u001b[0m\n\u001b[1;32m      3\u001b[0m \u001b[0;32mimport\u001b[0m \u001b[0mtime\u001b[0m\u001b[0;34m\u001b[0m\u001b[0;34m\u001b[0m\u001b[0m\n\u001b[1;32m      4\u001b[0m \u001b[0;32mfrom\u001b[0m \u001b[0mquasigraph\u001b[0m \u001b[0;32mimport\u001b[0m \u001b[0mQuasiGraph\u001b[0m\u001b[0;34m\u001b[0m\u001b[0;34m\u001b[0m\u001b[0m\n\u001b[1;32m      5\u001b[0m \u001b[0;32mfrom\u001b[0m \u001b[0mcollections\u001b[0m \u001b[0;32mimport\u001b[0m \u001b[0mCounter\u001b[0m\u001b[0;34m\u001b[0m\u001b[0;34m\u001b[0m\u001b[0m\n",
            "\u001b[0;31mModuleNotFoundError\u001b[0m: No module named 'ase'",
            "",
            "\u001b[0;31m---------------------------------------------------------------------------\u001b[0;32m\nNOTE: If your import is failing due to a missing package, you can\nmanually install dependencies using either !pip or !apt.\n\nTo view examples of installing some common dependencies, click the\n\"Open Examples\" button below.\n\u001b[0;31m---------------------------------------------------------------------------\u001b[0m\n"
          ],
          "errorDetails": {
            "actions": [
              {
                "action": "open_url",
                "actionText": "Open Examples",
                "url": "/notebooks/snippets/importing_libraries.ipynb"
              }
            ]
          }
        }
      ],
      "source": [
        "from ase.io import read\n",
        "import glob\n",
        "import time\n",
        "from quasigraph import QuasiGraph\n",
        "from collections import Counter\n",
        "from dscribe.descriptors import MBTR\n",
        "import numpy as np\n",
        "import pandas as pd"
      ]
    },
    {
      "cell_type": "markdown",
      "id": "1c038f92",
      "metadata": {
        "id": "1c038f92"
      },
      "source": [
        "### Reading XYZ files"
      ]
    },
    {
      "cell_type": "code",
      "execution_count": null,
      "id": "a60ac8f9",
      "metadata": {
        "id": "a60ac8f9"
      },
      "outputs": [],
      "source": [
        "# Path to the subdirectory\n",
        "subdirectory = 'M55_XYZs/'\n",
        "\n",
        "# Pattern to match all .xyz files\n",
        "file_pattern = subdirectory + '*.xyz'\n",
        "\n",
        "# Find all .xyz files in the subdirectory\n",
        "xyz_files = glob.glob(file_pattern)\n",
        "xyz_files.sort()\n",
        "#print(xyz_files)\n",
        "\n",
        "structures = []\n",
        "\n",
        "# Iterate over the list of file paths\n",
        "for file_path in xyz_files:\n",
        "    # Read the file content\n",
        "    content = read(file_path)\n",
        "    structures.append(content)\n",
        "    #print(content)\n",
        "    #time.sleep(0.01)\n"
      ]
    },
    {
      "cell_type": "markdown",
      "id": "71f80422",
      "metadata": {
        "id": "71f80422"
      },
      "source": [
        "### Make a list of all the atomic symbols for each structure"
      ]
    },
    {
      "cell_type": "code",
      "execution_count": null,
      "id": "537c07e5",
      "metadata": {
        "id": "537c07e5"
      },
      "outputs": [],
      "source": [
        "species = list()\n",
        "for structure in structures:\n",
        "    species.append(structure.get_chemical_symbols())\n",
        "#print(species)"
      ]
    },
    {
      "cell_type": "code",
      "execution_count": null,
      "id": "656d0d35",
      "metadata": {
        "id": "656d0d35"
      },
      "outputs": [],
      "source": [
        "columns = []\n",
        "for i in range(0,56):\n",
        "    columns.append(i)\n",
        "    i += 1\n",
        "\n",
        "df_compositions = pd.DataFrame(species, columns=columns)\n",
        "#print(df_compositions)\n",
        "df_deltaG = pd.read_csv(\"M55H.csv\", delimiter=\",\")\n",
        "df_compositions_deltaG = pd.merge(df_compositions, df_deltaG['dG'], right_index=True, left_index=True)\n",
        "df_compositions_deltaG.to_csv('M55_Composition_deltaG.csv', index=False)\n"
      ]
    },
    {
      "cell_type": "markdown",
      "id": "747340fc",
      "metadata": {
        "id": "747340fc"
      },
      "source": [
        "### Set original coordinates"
      ]
    },
    {
      "cell_type": "code",
      "execution_count": null,
      "id": "e0b8d67c",
      "metadata": {
        "id": "e0b8d67c"
      },
      "outputs": [],
      "source": [
        "original_coordinates = [\n",
        "[ 7.503076,  7.500287,  7.500527],\n",
        "[ 7.501496,  7.499433, 10.519347],\n",
        "[10.201966,  7.499429,  8.850971],\n",
        "[ 8.335428, 10.068041,  8.850214],\n",
        "[ 5.318077,  9.087307,  8.851202],\n",
        "[ 5.318866,  5.911266,  8.851139],\n",
        "[ 8.336276,  4.930687,  8.850644],\n",
        "[ 9.685200,  5.911761,  6.150445],\n",
        "[ 9.685521,  9.087984,  6.148732],\n",
        "[ 6.666817, 10.068366,  6.149321],\n",
        "[ 4.801795,  7.500758,  6.149909],\n",
        "[ 6.666785,  4.932150,  6.150026],\n",
        "[ 7.501420,  7.499782,  4.481116],\n",
        "[ 7.500925,  7.498200, 13.500912],\n",
        "[12.867908,  7.499579, 10.183295],\n",
        "[ 9.158612, 12.604167, 10.182569],\n",
        "[ 3.159135, 10.653242, 10.182372],\n",
        "[ 3.159425,  4.345405, 10.183346],\n",
        "[ 9.158834,  2.394463, 10.183389],\n",
        "[11.840844,  4.345272,  4.816278],\n",
        "[11.840496, 10.654892,  4.815631],\n",
        "[ 5.840863, 12.604191,  4.816097],\n",
        "[ 2.133747,  7.499933,  4.816731],\n",
        "[ 5.840686,  2.395788,  4.817810],\n",
        "[ 7.497854,  7.500683,  1.499006],\n",
        "[10.246385,  7.498014, 11.942265],\n",
        "[ 8.349436, 10.110104, 11.941822],\n",
        "[ 5.282997,  9.113116, 11.942940],\n",
        "[ 5.281426,  5.885068, 11.943276],\n",
        "[ 8.348798,  4.888329, 11.942536],\n",
        "[11.093924, 10.109976, 10.244917],\n",
        "[11.093603,  4.888408, 10.245791],\n",
        "[12.464710,  5.885214,  7.499452],\n",
        "[12.464716,  9.113910,  7.499517],\n",
        "[ 6.128712, 11.724833, 10.244819],\n",
        "[10.567471, 11.724218,  7.499633],\n",
        "[ 7.499089, 12.720750,  7.499842],\n",
        "[ 3.061130,  7.498289, 10.246121],\n",
        "[ 4.430662, 11.723297,  7.499848],\n",
        "[ 2.536723,  9.111434,  7.501259],\n",
        "[ 6.128281,  3.274767, 10.244911],\n",
        "[ 2.537708,  5.888022,  7.500629],\n",
        "[ 4.432596,  3.276156,  7.498634],\n",
        "[10.569375,  3.275952,  7.501273],\n",
        "[ 7.500610,  2.279334,  7.501010],\n",
        "[11.939403,  7.498910,  4.753132],\n",
        "[ 8.873093,  3.274998,  4.755841],\n",
        "[ 9.719744,  5.886501,  3.057833],\n",
        "[ 8.871855, 11.725941,  4.754606],\n",
        "[ 9.718989,  9.113611,  3.056842],\n",
        "[ 3.907536, 10.110258,  4.754579],\n",
        "[ 6.649566, 10.110144,  3.057685],\n",
        "[ 3.908735,  4.888195,  4.753890],\n",
        "[ 4.755339,  7.500967,  3.057870],\n",
        "[ 6.650073,  4.889215,  3.058556],\n",
        "[ 7.500925,  7.498200, 15.160912],\n",
        "]"
      ]
    },
    {
      "cell_type": "markdown",
      "id": "a61b2ba4",
      "metadata": {
        "id": "a61b2ba4"
      },
      "source": [
        "### Generate new XYZ"
      ]
    },
    {
      "cell_type": "code",
      "execution_count": null,
      "id": "ef5838a4",
      "metadata": {
        "id": "ef5838a4"
      },
      "outputs": [],
      "source": [
        "structure_number = 0\n",
        "for structure in species:\n",
        "    # Fixed filename formatting with f-string\n",
        "    filename = f'temp_xyz/structure_to_train_{structure_number:04}.xyz'\n",
        "    with open(filename, 'w') as file:\n",
        "        i = 0\n",
        "        file.write('56\\n')\n",
        "        file.write('\\n')\n",
        "        for atom in structure:\n",
        "            file.write(f'{atom} {original_coordinates[i][0]} {original_coordinates[i][1]} {original_coordinates[i][2]}\\n')\n",
        "            i += 1\n",
        "    structure_number += 1"
      ]
    },
    {
      "cell_type": "markdown",
      "id": "086785c7",
      "metadata": {
        "id": "086785c7"
      },
      "source": [
        "### Generate SOAP Features"
      ]
    },
    {
      "cell_type": "code",
      "execution_count": null,
      "id": "db22b6b1",
      "metadata": {
        "id": "db22b6b1",
        "outputId": "ca247a5b-625e-47c1-e210-f6b0696940e2"
      },
      "outputs": [
        {
          "name": "stdout",
          "output_type": "stream",
          "text": [
            "{'H', 'Pd', 'Au', 'Cu', 'Pt', 'Ag'}\n",
            "Feature Vector 741\n",
            "<class 'numpy.ndarray'>\n",
            "Number of features 10584\n"
          ]
        }
      ],
      "source": [
        "from dscribe.descriptors import SOAP\n",
        "import pandas as pd\n",
        "\n",
        "structures = []\n",
        "\n",
        "for idx in range(0,741):\n",
        "    #print(f'SOAPing nanoparticle: temp_xyz/structure_to_train_{idx:04}.xyz')\n",
        "    atoms = read(f'temp_xyz/structure_to_train_{idx:04}.xyz')\n",
        "    structures.append(atoms)\n",
        "\n",
        "species = set()\n",
        "for structure in structures:\n",
        "    species.update(structure.get_chemical_symbols())\n",
        "print(species)\n",
        "\n",
        "#print(help(SOAP))\n",
        "soap = SOAP(\n",
        "    species=species,\n",
        "    periodic=False,\n",
        "    r_cut=12.0,\n",
        "    n_max=8,\n",
        "    l_max=8,\n",
        "    average=\"inner\",\n",
        "    sparse=False\n",
        ")\n",
        "\n",
        "feature_vectors = soap.create(structures, n_jobs=4)\n",
        "\n",
        "print(\"Feature Vector\", len(feature_vectors))\n",
        "print(type(feature_vectors))\n",
        "print('Number of features', soap.get_number_of_features())\n",
        "soap_features = pd.DataFrame(feature_vectors)"
      ]
    },
    {
      "cell_type": "markdown",
      "id": "697a4be2",
      "metadata": {
        "id": "697a4be2"
      },
      "source": [
        "### Get MBTR features"
      ]
    },
    {
      "cell_type": "code",
      "execution_count": null,
      "id": "468e5836",
      "metadata": {
        "id": "468e5836",
        "outputId": "429cfad6-1df0-4a73-eb20-b6da9e07f181"
      },
      "outputs": [
        {
          "name": "stdout",
          "output_type": "stream",
          "text": [
            "Feature Vector 741\n",
            "<class 'numpy.ndarray'>\n"
          ]
        }
      ],
      "source": [
        "mbtr = MBTR(\n",
        "    species=species,\n",
        "    geometry={\"function\": \"inverse_distance\"},\n",
        "    grid={\"min\": 0, \"max\": 1, \"n\": 100, \"sigma\": 0.05},\n",
        "    weighting={\"function\": \"exp\", \"scale\": 0.5, \"threshold\": 1e-3},\n",
        "    periodic=False,\n",
        "    normalization=\"l2\",\n",
        ")\n",
        "\n",
        "mbtr_features = mbtr.create(structures)\n",
        "\n",
        "print(\"Feature Vector\", len(mbtr_features))\n",
        "print(type(mbtr_features))\n",
        "\n",
        "mbtr_features_df = pd.DataFrame(mbtr_features)"
      ]
    },
    {
      "cell_type": "markdown",
      "id": "765721f1",
      "metadata": {
        "id": "765721f1"
      },
      "source": [
        "### Run QuasiGraph"
      ]
    },
    {
      "cell_type": "code",
      "execution_count": null,
      "id": "0d88730f",
      "metadata": {
        "id": "0d88730f",
        "outputId": "eabe547a-25da-4a87-9a12-3ee49247a3ae"
      },
      "outputs": [
        {
          "name": "stdout",
          "output_type": "stream",
          "text": [
            "Running structure Atoms(symbols='AuCuPtAg3AuPt2PdCuPd3PtPd2CuAuPtAuCuAg2PdPt3AgAu2CuAuCuPtAuPd2AgAuAgPdAgCuPd2AgAuCuAuAg2PtCuPtH', pbc=False)\n",
            "Running structure Atoms(symbols='Cu2AgCu2PtPdPtPdPtAu3Pt2PdPtPdAu3PdAgCuAg2AuPdPt2AuPtAu2PdAuPt2CuAgPdCuPtAu2PdAuPtCuAg2AuAgCuPtH', pbc=False)\n",
            "Running structure Atoms(symbols='Ag2PdPtPd2Au2AgCuPtAgCuAuCuAgCuPdAuPdCuPdAgAuAgPdAuCuAu2Ag3CuPtAgAuPdPtCuPtPdAuPdPtAgCu2AuAgPdCuPdAgCuH', pbc=False)\n",
            "Running structure Atoms(symbols='PtCu2AgPdAuCuAuAgPd2AuCuAuPt2Ag3PdPtAuPtAgAuAg2AuCuAuPdPtAuCuAu2CuPdCu2Ag2CuPt3Cu2Pd2AuCu2AgAuH', pbc=False)\n",
            "Running structure Atoms(symbols='AuPdAgPd2AgAuCu2PdAgCu3PdPtAuPdAuPtCuAg3PdPt2PdAuPtPdAuAg3AuPtCuPdPtCuAg2PtPdAu3PtAuCuAuAg3H', pbc=False)\n",
            "Running structure Atoms(symbols='PdAgPt2AuPdAu2CuPtAgCuAgPtCuAu3AgPtAgAuPtCuPtCuAuPd2AgCuAgPdCuPdPt2CuPtCuPtAgPtPdCuAgPt2AuPtCuPdCuPdPtH', pbc=False)\n",
            "Running structure Atoms(symbols='AgCuPdAuAgAuPtAuPtCuPdPt2CuAgAuPtAuPdAgCuPdAuAgPdPtPd2Ag2AuCuAgCu2AuPt2CuPtPdPtAuAg2Au2CuAu2PdAgPd2CuH', pbc=False)\n",
            "Running structure Atoms(symbols='AgPt2PdAgCu2AgCu2PtAuAgAuPt2PdPtAuAgPtCuPd2PtCuAu2PdAgPdAuAg5Pt2CuPdCuAuPdPtAuCuAuCuPdAuPdAgAu2H', pbc=False)\n",
            "Running structure Atoms(symbols='AuCuPtAu2CuPtAuPtAu3Pd6AgPdAgPd2Pt3PdPtCuPtCu2AuAgPt2AgCuPdPtCuAuAg3AuAg3PtCuPdAu2AgH', pbc=False)\n",
            "Running structure Atoms(symbols='Au3Pt2AuCuPtCuAuPtAuAgCu2AuAgCuAu2PtAuPd2CuAuPt2AgCuAuPtAuCuPtAuCuPtCuAg2AuAgPd2CuPdPtAuAgPdAgCu3H', pbc=False)\n",
            "Running structure Atoms(symbols='Cu2Pt2PdCuAu2Pt2CuPd2AuAg2CuPt2AuPtPdAuPt2Cu2AgAuPd2CuAuPdAuAgAuPtCuPdAuPd2AuCuAgPtAgAuPdCuPd2AgAuH', pbc=False)\n",
            "Running structure Atoms(symbols='Au2PtAuPtCu2AgCuAu2Pt3PdPtAg2PtAg4Au4Ag2Au2PdPtCu2AuAgPt2AuCuPdPt2AgPtAg2Pt4CuPd2H', pbc=False)\n"
          ]
        },
        {
          "name": "stderr",
          "output_type": "stream",
          "text": [
            "Exception ignored in: <function _collection_gced at 0x7f54f64564c0>\n",
            "Traceback (most recent call last):\n",
            "  File \"/home/ABTLUS/james.almeida/anaconda3/lib/python3.9/site-packages/sqlalchemy/event/registry.py\", line 53, in _collection_gced\n",
            "    def _collection_gced(ref):\n",
            "KeyboardInterrupt: \n"
          ]
        },
        {
          "name": "stdout",
          "output_type": "stream",
          "text": [
            "Running structure Atoms(symbols='PdAgCuAg2AuAgPtCuAgPdCuPtAuAgAuPt2PdPt3PdCu3PtCu3AuPtAu2PdAgAuPtCuAuCuPdAuAgAuAgPd3CuAuPdAgCuAgH', pbc=False)\n",
            "Running structure Atoms(symbols='PdAuCuPtAgAu2Cu3AuPdAgAu2AgPd2AuPd2PtAgAuAgPd2AuPd2CuAgAu2PtCuAgCuPtCuAgCuAuCuPtAgCuAuAgCuAgCuPdAg2H', pbc=False)\n",
            "Running structure Atoms(symbols='CuPtCuPtCuPdAg2Pd2Au2CuAgCuPtCuAuPdCuAuPt2AuPtAgCu2PdCuAgPtAgPd3AuPtAgAuCu2AuPdPtAg2AuCuAgCuPd2Ag2H', pbc=False)\n",
            "Running structure Atoms(symbols='CuPtAgAu3CuAg2Pt2AuAgPdAgPtCuAgPt2AuAgCuAuPtAuAgPtAgPtAu2AgPd2CuAgAuAgPdCuAgAuCu3PtCuAuPtCuAgPtCuPtH', pbc=False)\n"
          ]
        },
        {
          "ename": "KeyboardInterrupt",
          "evalue": "",
          "output_type": "error",
          "traceback": [
            "\u001b[0;31m---------------------------------------------------------------------------\u001b[0m",
            "\u001b[0;31mKeyboardInterrupt\u001b[0m                         Traceback (most recent call last)",
            "\u001b[0;32m/tmp/ipykernel_390497/1853151277.py\u001b[0m in \u001b[0;36m<module>\u001b[0;34m\u001b[0m\n\u001b[1;32m      6\u001b[0m     \u001b[0mcomposition\u001b[0m \u001b[0;34m=\u001b[0m \u001b[0mdict\u001b[0m\u001b[0;34m(\u001b[0m\u001b[0mCounter\u001b[0m\u001b[0;34m(\u001b[0m\u001b[0matoms\u001b[0m\u001b[0;34m.\u001b[0m\u001b[0msymbols\u001b[0m\u001b[0;34m)\u001b[0m\u001b[0;34m)\u001b[0m\u001b[0;34m\u001b[0m\u001b[0;34m\u001b[0m\u001b[0m\n\u001b[1;32m      7\u001b[0m     \u001b[0mqgr\u001b[0m \u001b[0;34m=\u001b[0m \u001b[0mQuasiGraph\u001b[0m\u001b[0;34m(\u001b[0m\u001b[0matoms\u001b[0m\u001b[0;34m)\u001b[0m\u001b[0;34m\u001b[0m\u001b[0;34m\u001b[0m\u001b[0m\n\u001b[0;32m----> 8\u001b[0;31m     \u001b[0mvector\u001b[0m \u001b[0;34m=\u001b[0m \u001b[0mqgr\u001b[0m\u001b[0;34m.\u001b[0m\u001b[0mget_vector\u001b[0m\u001b[0;34m(\u001b[0m\u001b[0;34m)\u001b[0m\u001b[0;34m.\u001b[0m\u001b[0mtolist\u001b[0m\u001b[0;34m(\u001b[0m\u001b[0;34m)\u001b[0m\u001b[0;34m\u001b[0m\u001b[0;34m\u001b[0m\u001b[0m\n\u001b[0m\u001b[1;32m      9\u001b[0m     \u001b[0mqgrs\u001b[0m\u001b[0;34m.\u001b[0m\u001b[0mappend\u001b[0m\u001b[0;34m(\u001b[0m\u001b[0mvector\u001b[0m\u001b[0;34m)\u001b[0m\u001b[0;34m\u001b[0m\u001b[0;34m\u001b[0m\u001b[0m\n\u001b[1;32m     10\u001b[0m \u001b[0;34m\u001b[0m\u001b[0m\n",
            "\u001b[0;32m~/anaconda3/lib/python3.9/site-packages/quasigraph/quasigraph.py\u001b[0m in \u001b[0;36mget_vector\u001b[0;34m(self)\u001b[0m\n\u001b[1;32m    182\u001b[0m \u001b[0;34m\u001b[0m\u001b[0m\n\u001b[1;32m    183\u001b[0m     \u001b[0;32mdef\u001b[0m \u001b[0mget_vector\u001b[0m\u001b[0;34m(\u001b[0m\u001b[0mself\u001b[0m\u001b[0;34m)\u001b[0m\u001b[0;34m:\u001b[0m\u001b[0;34m\u001b[0m\u001b[0;34m\u001b[0m\u001b[0m\n\u001b[0;32m--> 184\u001b[0;31m         \u001b[0mdf\u001b[0m \u001b[0;34m=\u001b[0m \u001b[0mself\u001b[0m\u001b[0;34m.\u001b[0m\u001b[0mget_dataframe\u001b[0m\u001b[0;34m(\u001b[0m\u001b[0;34m)\u001b[0m\u001b[0;34m\u001b[0m\u001b[0;34m\u001b[0m\u001b[0m\n\u001b[0m\u001b[1;32m    185\u001b[0m         \u001b[0;32mreturn\u001b[0m \u001b[0mdf\u001b[0m\u001b[0;34m.\u001b[0m\u001b[0mvalues\u001b[0m\u001b[0;34m.\u001b[0m\u001b[0mflatten\u001b[0m\u001b[0;34m(\u001b[0m\u001b[0;34m)\u001b[0m\u001b[0;34m\u001b[0m\u001b[0;34m\u001b[0m\u001b[0m\n\u001b[1;32m    186\u001b[0m \u001b[0;34m\u001b[0m\u001b[0m\n",
            "\u001b[0;32m~/anaconda3/lib/python3.9/site-packages/quasigraph/quasigraph.py\u001b[0m in \u001b[0;36mget_dataframe\u001b[0;34m(self)\u001b[0m\n\u001b[1;32m    161\u001b[0m         \u001b[0;31m#Store Mendeleev data in memory\u001b[0m\u001b[0;34m\u001b[0m\u001b[0;34m\u001b[0m\u001b[0m\n\u001b[1;32m    162\u001b[0m         \u001b[0msymbols\u001b[0m \u001b[0;34m=\u001b[0m \u001b[0matomic_symbols\u001b[0m\u001b[0;34m\u001b[0m\u001b[0;34m\u001b[0m\u001b[0m\n\u001b[0;32m--> 163\u001b[0;31m         \u001b[0mgrp\u001b[0m \u001b[0;34m=\u001b[0m \u001b[0;34m{\u001b[0m\u001b[0msym\u001b[0m\u001b[0;34m:\u001b[0m \u001b[0melement\u001b[0m\u001b[0;34m(\u001b[0m\u001b[0msym\u001b[0m\u001b[0;34m)\u001b[0m\u001b[0;34m.\u001b[0m\u001b[0mgroup_id\u001b[0m \u001b[0;32mfor\u001b[0m \u001b[0msym\u001b[0m \u001b[0;32min\u001b[0m \u001b[0msymbols\u001b[0m\u001b[0;34m}\u001b[0m\u001b[0;34m\u001b[0m\u001b[0;34m\u001b[0m\u001b[0m\n\u001b[0m\u001b[1;32m    164\u001b[0m         \u001b[0mprd\u001b[0m \u001b[0;34m=\u001b[0m \u001b[0;34m{\u001b[0m\u001b[0msym\u001b[0m\u001b[0;34m:\u001b[0m \u001b[0melement\u001b[0m\u001b[0;34m(\u001b[0m\u001b[0msym\u001b[0m\u001b[0;34m)\u001b[0m\u001b[0;34m.\u001b[0m\u001b[0mperiod\u001b[0m \u001b[0;32mfor\u001b[0m \u001b[0msym\u001b[0m \u001b[0;32min\u001b[0m \u001b[0msymbols\u001b[0m\u001b[0;34m}\u001b[0m\u001b[0;34m\u001b[0m\u001b[0;34m\u001b[0m\u001b[0m\n\u001b[1;32m    165\u001b[0m         \u001b[0mcvr\u001b[0m \u001b[0;34m=\u001b[0m \u001b[0;34m{\u001b[0m\u001b[0msym\u001b[0m\u001b[0;34m:\u001b[0m \u001b[0melement\u001b[0m\u001b[0;34m(\u001b[0m\u001b[0msym\u001b[0m\u001b[0;34m)\u001b[0m\u001b[0;34m.\u001b[0m\u001b[0mcovalent_radius\u001b[0m \u001b[0;32mfor\u001b[0m \u001b[0msym\u001b[0m \u001b[0;32min\u001b[0m \u001b[0msymbols\u001b[0m\u001b[0;34m}\u001b[0m\u001b[0;34m\u001b[0m\u001b[0;34m\u001b[0m\u001b[0m\n",
            "\u001b[0;32m~/anaconda3/lib/python3.9/site-packages/quasigraph/quasigraph.py\u001b[0m in \u001b[0;36m<dictcomp>\u001b[0;34m(.0)\u001b[0m\n\u001b[1;32m    161\u001b[0m         \u001b[0;31m#Store Mendeleev data in memory\u001b[0m\u001b[0;34m\u001b[0m\u001b[0;34m\u001b[0m\u001b[0m\n\u001b[1;32m    162\u001b[0m         \u001b[0msymbols\u001b[0m \u001b[0;34m=\u001b[0m \u001b[0matomic_symbols\u001b[0m\u001b[0;34m\u001b[0m\u001b[0;34m\u001b[0m\u001b[0m\n\u001b[0;32m--> 163\u001b[0;31m         \u001b[0mgrp\u001b[0m \u001b[0;34m=\u001b[0m \u001b[0;34m{\u001b[0m\u001b[0msym\u001b[0m\u001b[0;34m:\u001b[0m \u001b[0melement\u001b[0m\u001b[0;34m(\u001b[0m\u001b[0msym\u001b[0m\u001b[0;34m)\u001b[0m\u001b[0;34m.\u001b[0m\u001b[0mgroup_id\u001b[0m \u001b[0;32mfor\u001b[0m \u001b[0msym\u001b[0m \u001b[0;32min\u001b[0m \u001b[0msymbols\u001b[0m\u001b[0;34m}\u001b[0m\u001b[0;34m\u001b[0m\u001b[0;34m\u001b[0m\u001b[0m\n\u001b[0m\u001b[1;32m    164\u001b[0m         \u001b[0mprd\u001b[0m \u001b[0;34m=\u001b[0m \u001b[0;34m{\u001b[0m\u001b[0msym\u001b[0m\u001b[0;34m:\u001b[0m \u001b[0melement\u001b[0m\u001b[0;34m(\u001b[0m\u001b[0msym\u001b[0m\u001b[0;34m)\u001b[0m\u001b[0;34m.\u001b[0m\u001b[0mperiod\u001b[0m \u001b[0;32mfor\u001b[0m \u001b[0msym\u001b[0m \u001b[0;32min\u001b[0m \u001b[0msymbols\u001b[0m\u001b[0;34m}\u001b[0m\u001b[0;34m\u001b[0m\u001b[0;34m\u001b[0m\u001b[0m\n\u001b[1;32m    165\u001b[0m         \u001b[0mcvr\u001b[0m \u001b[0;34m=\u001b[0m \u001b[0;34m{\u001b[0m\u001b[0msym\u001b[0m\u001b[0;34m:\u001b[0m \u001b[0melement\u001b[0m\u001b[0;34m(\u001b[0m\u001b[0msym\u001b[0m\u001b[0;34m)\u001b[0m\u001b[0;34m.\u001b[0m\u001b[0mcovalent_radius\u001b[0m \u001b[0;32mfor\u001b[0m \u001b[0msym\u001b[0m \u001b[0;32min\u001b[0m \u001b[0msymbols\u001b[0m\u001b[0;34m}\u001b[0m\u001b[0;34m\u001b[0m\u001b[0;34m\u001b[0m\u001b[0m\n",
            "\u001b[0;32m~/anaconda3/lib/python3.9/site-packages/mendeleev/mendeleev.py\u001b[0m in \u001b[0;36melement\u001b[0;34m(ids)\u001b[0m\n\u001b[1;32m     62\u001b[0m         \u001b[0;32mreturn\u001b[0m \u001b[0;34m[\u001b[0m\u001b[0m_get_element\u001b[0m\u001b[0;34m(\u001b[0m\u001b[0mi\u001b[0m\u001b[0;34m)\u001b[0m \u001b[0;32mfor\u001b[0m \u001b[0mi\u001b[0m \u001b[0;32min\u001b[0m \u001b[0mids\u001b[0m\u001b[0;34m]\u001b[0m\u001b[0;34m\u001b[0m\u001b[0;34m\u001b[0m\u001b[0m\n\u001b[1;32m     63\u001b[0m     \u001b[0;32melif\u001b[0m \u001b[0misinstance\u001b[0m\u001b[0;34m(\u001b[0m\u001b[0mids\u001b[0m\u001b[0;34m,\u001b[0m \u001b[0;34m(\u001b[0m\u001b[0msix\u001b[0m\u001b[0;34m.\u001b[0m\u001b[0mstring_types\u001b[0m\u001b[0;34m,\u001b[0m \u001b[0mint\u001b[0m\u001b[0;34m)\u001b[0m\u001b[0;34m)\u001b[0m\u001b[0;34m:\u001b[0m\u001b[0;34m\u001b[0m\u001b[0;34m\u001b[0m\u001b[0m\n\u001b[0;32m---> 64\u001b[0;31m         \u001b[0;32mreturn\u001b[0m \u001b[0m_get_element\u001b[0m\u001b[0;34m(\u001b[0m\u001b[0mids\u001b[0m\u001b[0;34m)\u001b[0m\u001b[0;34m\u001b[0m\u001b[0;34m\u001b[0m\u001b[0m\n\u001b[0m\u001b[1;32m     65\u001b[0m     \u001b[0;32melse\u001b[0m\u001b[0;34m:\u001b[0m\u001b[0;34m\u001b[0m\u001b[0;34m\u001b[0m\u001b[0m\n\u001b[1;32m     66\u001b[0m         raise ValueError(\n",
            "\u001b[0;32m~/anaconda3/lib/python3.9/site-packages/mendeleev/mendeleev.py\u001b[0m in \u001b[0;36m_get_element\u001b[0;34m(ids)\u001b[0m\n\u001b[1;32m     79\u001b[0m     \u001b[0;32mif\u001b[0m \u001b[0misinstance\u001b[0m\u001b[0;34m(\u001b[0m\u001b[0mids\u001b[0m\u001b[0;34m,\u001b[0m \u001b[0msix\u001b[0m\u001b[0;34m.\u001b[0m\u001b[0mstring_types\u001b[0m\u001b[0;34m)\u001b[0m\u001b[0;34m:\u001b[0m\u001b[0;34m\u001b[0m\u001b[0;34m\u001b[0m\u001b[0m\n\u001b[1;32m     80\u001b[0m         \u001b[0;32mif\u001b[0m \u001b[0mlen\u001b[0m\u001b[0;34m(\u001b[0m\u001b[0mids\u001b[0m\u001b[0;34m)\u001b[0m \u001b[0;34m<=\u001b[0m \u001b[0;36m3\u001b[0m \u001b[0;32mand\u001b[0m \u001b[0mids\u001b[0m\u001b[0;34m.\u001b[0m\u001b[0mlower\u001b[0m\u001b[0;34m(\u001b[0m\u001b[0;34m)\u001b[0m \u001b[0;34m!=\u001b[0m \u001b[0;34m\"tin\"\u001b[0m\u001b[0;34m:\u001b[0m\u001b[0;34m\u001b[0m\u001b[0;34m\u001b[0m\u001b[0m\n\u001b[0;32m---> 81\u001b[0;31m             \u001b[0;32mreturn\u001b[0m \u001b[0msession\u001b[0m\u001b[0;34m.\u001b[0m\u001b[0mquery\u001b[0m\u001b[0;34m(\u001b[0m\u001b[0mElement\u001b[0m\u001b[0;34m)\u001b[0m\u001b[0;34m.\u001b[0m\u001b[0mfilter\u001b[0m\u001b[0;34m(\u001b[0m\u001b[0mElement\u001b[0m\u001b[0;34m.\u001b[0m\u001b[0msymbol\u001b[0m \u001b[0;34m==\u001b[0m \u001b[0mstr\u001b[0m\u001b[0;34m(\u001b[0m\u001b[0mids\u001b[0m\u001b[0;34m)\u001b[0m\u001b[0;34m)\u001b[0m\u001b[0;34m.\u001b[0m\u001b[0mone\u001b[0m\u001b[0;34m(\u001b[0m\u001b[0;34m)\u001b[0m\u001b[0;34m\u001b[0m\u001b[0;34m\u001b[0m\u001b[0m\n\u001b[0m\u001b[1;32m     82\u001b[0m         \u001b[0;32melse\u001b[0m\u001b[0;34m:\u001b[0m\u001b[0;34m\u001b[0m\u001b[0;34m\u001b[0m\u001b[0m\n\u001b[1;32m     83\u001b[0m             \u001b[0;32mreturn\u001b[0m \u001b[0msession\u001b[0m\u001b[0;34m.\u001b[0m\u001b[0mquery\u001b[0m\u001b[0;34m(\u001b[0m\u001b[0mElement\u001b[0m\u001b[0;34m)\u001b[0m\u001b[0;34m.\u001b[0m\u001b[0mfilter\u001b[0m\u001b[0;34m(\u001b[0m\u001b[0mElement\u001b[0m\u001b[0;34m.\u001b[0m\u001b[0mname\u001b[0m \u001b[0;34m==\u001b[0m \u001b[0mstr\u001b[0m\u001b[0;34m(\u001b[0m\u001b[0mids\u001b[0m\u001b[0;34m)\u001b[0m\u001b[0;34m)\u001b[0m\u001b[0;34m.\u001b[0m\u001b[0mone\u001b[0m\u001b[0;34m(\u001b[0m\u001b[0;34m)\u001b[0m\u001b[0;34m\u001b[0m\u001b[0;34m\u001b[0m\u001b[0m\n",
            "\u001b[0;32m~/anaconda3/lib/python3.9/site-packages/sqlalchemy/orm/query.py\u001b[0m in \u001b[0;36mone\u001b[0;34m(self)\u001b[0m\n\u001b[1;32m   2807\u001b[0m \u001b[0;34m\u001b[0m\u001b[0m\n\u001b[1;32m   2808\u001b[0m         \"\"\"\n\u001b[0;32m-> 2809\u001b[0;31m         \u001b[0;32mreturn\u001b[0m \u001b[0mself\u001b[0m\u001b[0;34m.\u001b[0m\u001b[0m_iter\u001b[0m\u001b[0;34m(\u001b[0m\u001b[0;34m)\u001b[0m\u001b[0;34m.\u001b[0m\u001b[0mone\u001b[0m\u001b[0;34m(\u001b[0m\u001b[0;34m)\u001b[0m\u001b[0;34m\u001b[0m\u001b[0;34m\u001b[0m\u001b[0m\n\u001b[0m\u001b[1;32m   2810\u001b[0m \u001b[0;34m\u001b[0m\u001b[0m\n\u001b[1;32m   2811\u001b[0m     \u001b[0;32mdef\u001b[0m \u001b[0mscalar\u001b[0m\u001b[0;34m(\u001b[0m\u001b[0mself\u001b[0m\u001b[0;34m)\u001b[0m\u001b[0;34m:\u001b[0m\u001b[0;34m\u001b[0m\u001b[0;34m\u001b[0m\u001b[0m\n",
            "\u001b[0;32m~/anaconda3/lib/python3.9/site-packages/sqlalchemy/orm/query.py\u001b[0m in \u001b[0;36m_iter\u001b[0;34m(self)\u001b[0m\n\u001b[1;32m   2845\u001b[0m \u001b[0;34m\u001b[0m\u001b[0m\n\u001b[1;32m   2846\u001b[0m         \u001b[0mstatement\u001b[0m \u001b[0;34m=\u001b[0m \u001b[0mself\u001b[0m\u001b[0;34m.\u001b[0m\u001b[0m_statement_20\u001b[0m\u001b[0;34m(\u001b[0m\u001b[0;34m)\u001b[0m\u001b[0;34m\u001b[0m\u001b[0;34m\u001b[0m\u001b[0m\n\u001b[0;32m-> 2847\u001b[0;31m         result = self.session.execute(\n\u001b[0m\u001b[1;32m   2848\u001b[0m             \u001b[0mstatement\u001b[0m\u001b[0;34m,\u001b[0m\u001b[0;34m\u001b[0m\u001b[0;34m\u001b[0m\u001b[0m\n\u001b[1;32m   2849\u001b[0m             \u001b[0mparams\u001b[0m\u001b[0;34m,\u001b[0m\u001b[0;34m\u001b[0m\u001b[0;34m\u001b[0m\u001b[0m\n",
            "\u001b[0;32m~/anaconda3/lib/python3.9/site-packages/sqlalchemy/orm/session.py\u001b[0m in \u001b[0;36mexecute\u001b[0;34m(self, statement, params, execution_options, bind_arguments, _parent_execute_state, _add_event, **kw)\u001b[0m\n\u001b[1;32m   1690\u001b[0m \u001b[0;34m\u001b[0m\u001b[0m\n\u001b[1;32m   1691\u001b[0m         \u001b[0;32mif\u001b[0m \u001b[0mcompile_state_cls\u001b[0m\u001b[0;34m:\u001b[0m\u001b[0;34m\u001b[0m\u001b[0;34m\u001b[0m\u001b[0m\n\u001b[0;32m-> 1692\u001b[0;31m             result = compile_state_cls.orm_setup_cursor_result(\n\u001b[0m\u001b[1;32m   1693\u001b[0m                 \u001b[0mself\u001b[0m\u001b[0;34m,\u001b[0m\u001b[0;34m\u001b[0m\u001b[0;34m\u001b[0m\u001b[0m\n\u001b[1;32m   1694\u001b[0m                 \u001b[0mstatement\u001b[0m\u001b[0;34m,\u001b[0m\u001b[0;34m\u001b[0m\u001b[0;34m\u001b[0m\u001b[0m\n",
            "\u001b[0;32m~/anaconda3/lib/python3.9/site-packages/sqlalchemy/orm/context.py\u001b[0m in \u001b[0;36morm_setup_cursor_result\u001b[0;34m(cls, session, statement, params, execution_options, bind_arguments, result)\u001b[0m\n\u001b[1;32m    323\u001b[0m             \u001b[0mbind_arguments\u001b[0m\u001b[0;34m,\u001b[0m\u001b[0;34m\u001b[0m\u001b[0;34m\u001b[0m\u001b[0m\n\u001b[1;32m    324\u001b[0m         )\n\u001b[0;32m--> 325\u001b[0;31m         \u001b[0;32mreturn\u001b[0m \u001b[0mloading\u001b[0m\u001b[0;34m.\u001b[0m\u001b[0minstances\u001b[0m\u001b[0;34m(\u001b[0m\u001b[0mresult\u001b[0m\u001b[0;34m,\u001b[0m \u001b[0mquerycontext\u001b[0m\u001b[0;34m)\u001b[0m\u001b[0;34m\u001b[0m\u001b[0;34m\u001b[0m\u001b[0m\n\u001b[0m\u001b[1;32m    326\u001b[0m \u001b[0;34m\u001b[0m\u001b[0m\n\u001b[1;32m    327\u001b[0m     \u001b[0;34m@\u001b[0m\u001b[0mproperty\u001b[0m\u001b[0;34m\u001b[0m\u001b[0;34m\u001b[0m\u001b[0m\n",
            "\u001b[0;32m~/anaconda3/lib/python3.9/site-packages/sqlalchemy/orm/loading.py\u001b[0m in \u001b[0;36minstances\u001b[0;34m(cursor, context)\u001b[0m\n\u001b[1;32m     66\u001b[0m         (process, labels, extra) = list(\n\u001b[1;32m     67\u001b[0m             zip(\n\u001b[0;32m---> 68\u001b[0;31m                 *[\n\u001b[0m\u001b[1;32m     69\u001b[0m                     \u001b[0mquery_entity\u001b[0m\u001b[0;34m.\u001b[0m\u001b[0mrow_processor\u001b[0m\u001b[0;34m(\u001b[0m\u001b[0mcontext\u001b[0m\u001b[0;34m,\u001b[0m \u001b[0mcursor\u001b[0m\u001b[0;34m)\u001b[0m\u001b[0;34m\u001b[0m\u001b[0;34m\u001b[0m\u001b[0m\n\u001b[1;32m     70\u001b[0m                     \u001b[0;32mfor\u001b[0m \u001b[0mquery_entity\u001b[0m \u001b[0;32min\u001b[0m \u001b[0mcontext\u001b[0m\u001b[0;34m.\u001b[0m\u001b[0mcompile_state\u001b[0m\u001b[0;34m.\u001b[0m\u001b[0m_entities\u001b[0m\u001b[0;34m\u001b[0m\u001b[0;34m\u001b[0m\u001b[0m\n",
            "\u001b[0;32m~/anaconda3/lib/python3.9/site-packages/sqlalchemy/orm/loading.py\u001b[0m in \u001b[0;36m<listcomp>\u001b[0;34m(.0)\u001b[0m\n\u001b[1;32m     67\u001b[0m             zip(\n\u001b[1;32m     68\u001b[0m                 *[\n\u001b[0;32m---> 69\u001b[0;31m                     \u001b[0mquery_entity\u001b[0m\u001b[0;34m.\u001b[0m\u001b[0mrow_processor\u001b[0m\u001b[0;34m(\u001b[0m\u001b[0mcontext\u001b[0m\u001b[0;34m,\u001b[0m \u001b[0mcursor\u001b[0m\u001b[0;34m)\u001b[0m\u001b[0;34m\u001b[0m\u001b[0;34m\u001b[0m\u001b[0m\n\u001b[0m\u001b[1;32m     70\u001b[0m                     \u001b[0;32mfor\u001b[0m \u001b[0mquery_entity\u001b[0m \u001b[0;32min\u001b[0m \u001b[0mcontext\u001b[0m\u001b[0;34m.\u001b[0m\u001b[0mcompile_state\u001b[0m\u001b[0;34m.\u001b[0m\u001b[0m_entities\u001b[0m\u001b[0;34m\u001b[0m\u001b[0;34m\u001b[0m\u001b[0m\n\u001b[1;32m     71\u001b[0m                 ]\n",
            "\u001b[0;32m~/anaconda3/lib/python3.9/site-packages/sqlalchemy/orm/context.py\u001b[0m in \u001b[0;36mrow_processor\u001b[0;34m(self, context, result)\u001b[0m\n\u001b[1;32m   2444\u001b[0m             \u001b[0monly_load_props\u001b[0m \u001b[0;34m=\u001b[0m \u001b[0mrefresh_state\u001b[0m \u001b[0;34m=\u001b[0m \u001b[0;32mNone\u001b[0m\u001b[0;34m\u001b[0m\u001b[0;34m\u001b[0m\u001b[0m\n\u001b[1;32m   2445\u001b[0m \u001b[0;34m\u001b[0m\u001b[0m\n\u001b[0;32m-> 2446\u001b[0;31m         _instance = loading._instance_processor(\n\u001b[0m\u001b[1;32m   2447\u001b[0m             \u001b[0mself\u001b[0m\u001b[0;34m,\u001b[0m\u001b[0;34m\u001b[0m\u001b[0;34m\u001b[0m\u001b[0m\n\u001b[1;32m   2448\u001b[0m             \u001b[0mself\u001b[0m\u001b[0;34m.\u001b[0m\u001b[0mmapper\u001b[0m\u001b[0;34m,\u001b[0m\u001b[0;34m\u001b[0m\u001b[0;34m\u001b[0m\u001b[0m\n",
            "\u001b[0;32m~/anaconda3/lib/python3.9/site-packages/sqlalchemy/orm/loading.py\u001b[0m in \u001b[0;36m_instance_processor\u001b[0;34m(query_entity, mapper, context, result, path, adapter, only_load_props, refresh_state, polymorphic_discriminator, _polymorphic_from)\u001b[0m\n\u001b[1;32m    821\u001b[0m     \u001b[0mpopulators\u001b[0m \u001b[0;34m=\u001b[0m \u001b[0;34m{\u001b[0m\u001b[0mkey\u001b[0m\u001b[0;34m:\u001b[0m \u001b[0mlist\u001b[0m\u001b[0;34m(\u001b[0m\u001b[0mvalue\u001b[0m\u001b[0;34m)\u001b[0m \u001b[0;32mfor\u001b[0m \u001b[0mkey\u001b[0m\u001b[0;34m,\u001b[0m \u001b[0mvalue\u001b[0m \u001b[0;32min\u001b[0m \u001b[0mcached_populators\u001b[0m\u001b[0;34m.\u001b[0m\u001b[0mitems\u001b[0m\u001b[0;34m(\u001b[0m\u001b[0;34m)\u001b[0m\u001b[0;34m}\u001b[0m\u001b[0;34m\u001b[0m\u001b[0;34m\u001b[0m\u001b[0m\n\u001b[1;32m    822\u001b[0m     \u001b[0;32mfor\u001b[0m \u001b[0mprop\u001b[0m \u001b[0;32min\u001b[0m \u001b[0mgetters\u001b[0m\u001b[0;34m[\u001b[0m\u001b[0;34m\"todo\"\u001b[0m\u001b[0;34m]\u001b[0m\u001b[0;34m:\u001b[0m\u001b[0;34m\u001b[0m\u001b[0;34m\u001b[0m\u001b[0m\n\u001b[0;32m--> 823\u001b[0;31m         prop.create_row_processor(\n\u001b[0m\u001b[1;32m    824\u001b[0m             \u001b[0mcontext\u001b[0m\u001b[0;34m,\u001b[0m \u001b[0mquery_entity\u001b[0m\u001b[0;34m,\u001b[0m \u001b[0mpath\u001b[0m\u001b[0;34m,\u001b[0m \u001b[0mmapper\u001b[0m\u001b[0;34m,\u001b[0m \u001b[0mresult\u001b[0m\u001b[0;34m,\u001b[0m \u001b[0madapter\u001b[0m\u001b[0;34m,\u001b[0m \u001b[0mpopulators\u001b[0m\u001b[0;34m\u001b[0m\u001b[0;34m\u001b[0m\u001b[0m\n\u001b[1;32m    825\u001b[0m         )\n",
            "\u001b[0;32m~/anaconda3/lib/python3.9/site-packages/sqlalchemy/orm/interfaces.py\u001b[0m in \u001b[0;36mcreate_row_processor\u001b[0;34m(self, context, query_entity, path, mapper, result, adapter, populators)\u001b[0m\n\u001b[1;32m    644\u001b[0m         \u001b[0;32melse\u001b[0m\u001b[0;34m:\u001b[0m\u001b[0;34m\u001b[0m\u001b[0;34m\u001b[0m\u001b[0m\n\u001b[1;32m    645\u001b[0m             \u001b[0mstrat\u001b[0m \u001b[0;34m=\u001b[0m \u001b[0mself\u001b[0m\u001b[0;34m.\u001b[0m\u001b[0mstrategy\u001b[0m\u001b[0;34m\u001b[0m\u001b[0;34m\u001b[0m\u001b[0m\n\u001b[0;32m--> 646\u001b[0;31m         strat.create_row_processor(\n\u001b[0m\u001b[1;32m    647\u001b[0m             \u001b[0mcontext\u001b[0m\u001b[0;34m,\u001b[0m\u001b[0;34m\u001b[0m\u001b[0;34m\u001b[0m\u001b[0m\n\u001b[1;32m    648\u001b[0m             \u001b[0mquery_entity\u001b[0m\u001b[0;34m,\u001b[0m\u001b[0;34m\u001b[0m\u001b[0;34m\u001b[0m\u001b[0m\n",
            "\u001b[0;32m~/anaconda3/lib/python3.9/site-packages/sqlalchemy/orm/strategies.py\u001b[0m in \u001b[0;36mcreate_row_processor\u001b[0;34m(self, context, query_entity, path, loadopt, mapper, result, adapter, populators)\u001b[0m\n\u001b[1;32m   1817\u001b[0m             \u001b[0;32mreturn\u001b[0m\u001b[0;34m\u001b[0m\u001b[0;34m\u001b[0m\u001b[0m\n\u001b[1;32m   1818\u001b[0m \u001b[0;34m\u001b[0m\u001b[0m\n\u001b[0;32m-> 1819\u001b[0;31m         subq = self._setup_query_from_rowproc(\n\u001b[0m\u001b[1;32m   1820\u001b[0m             \u001b[0mcontext\u001b[0m\u001b[0;34m,\u001b[0m\u001b[0;34m\u001b[0m\u001b[0;34m\u001b[0m\u001b[0m\n\u001b[1;32m   1821\u001b[0m             \u001b[0mquery_entity\u001b[0m\u001b[0;34m,\u001b[0m\u001b[0;34m\u001b[0m\u001b[0;34m\u001b[0m\u001b[0m\n",
            "\u001b[0;32m~/anaconda3/lib/python3.9/site-packages/sqlalchemy/orm/strategies.py\u001b[0m in \u001b[0;36m_setup_query_from_rowproc\u001b[0;34m(self, context, query_entity, path, entity, loadopt, adapter)\u001b[0m\n\u001b[1;32m   1755\u001b[0m         )\n\u001b[1;32m   1756\u001b[0m \u001b[0;34m\u001b[0m\u001b[0m\n\u001b[0;32m-> 1757\u001b[0;31m         \u001b[0mq\u001b[0m \u001b[0;34m=\u001b[0m \u001b[0mq\u001b[0m\u001b[0;34m.\u001b[0m\u001b[0madd_columns\u001b[0m\u001b[0;34m(\u001b[0m\u001b[0;34m*\u001b[0m\u001b[0mlocal_attr\u001b[0m\u001b[0;34m)\u001b[0m\u001b[0;34m\u001b[0m\u001b[0;34m\u001b[0m\u001b[0m\n\u001b[0m\u001b[1;32m   1758\u001b[0m         q = self._apply_joins(\n\u001b[1;32m   1759\u001b[0m             \u001b[0mq\u001b[0m\u001b[0;34m,\u001b[0m \u001b[0mto_join\u001b[0m\u001b[0;34m,\u001b[0m \u001b[0mleft_alias\u001b[0m\u001b[0;34m,\u001b[0m \u001b[0mparent_alias\u001b[0m\u001b[0;34m,\u001b[0m \u001b[0meffective_entity\u001b[0m\u001b[0;34m\u001b[0m\u001b[0;34m\u001b[0m\u001b[0m\n",
            "\u001b[0;32m<string>\u001b[0m in \u001b[0;36madd_columns\u001b[0;34m(self, *column)\u001b[0m\n",
            "\u001b[0;32m~/anaconda3/lib/python3.9/site-packages/sqlalchemy/sql/base.py\u001b[0m in \u001b[0;36m_generative\u001b[0;34m(fn, self, *args, **kw)\u001b[0m\n\u001b[1;32m    102\u001b[0m \u001b[0;34m\u001b[0m\u001b[0m\n\u001b[1;32m    103\u001b[0m         \u001b[0mself\u001b[0m \u001b[0;34m=\u001b[0m \u001b[0mself\u001b[0m\u001b[0;34m.\u001b[0m\u001b[0m_generate\u001b[0m\u001b[0;34m(\u001b[0m\u001b[0;34m)\u001b[0m\u001b[0;34m\u001b[0m\u001b[0;34m\u001b[0m\u001b[0m\n\u001b[0;32m--> 104\u001b[0;31m         \u001b[0mx\u001b[0m \u001b[0;34m=\u001b[0m \u001b[0mfn\u001b[0m\u001b[0;34m(\u001b[0m\u001b[0mself\u001b[0m\u001b[0;34m,\u001b[0m \u001b[0;34m*\u001b[0m\u001b[0margs\u001b[0m\u001b[0;34m,\u001b[0m \u001b[0;34m**\u001b[0m\u001b[0mkw\u001b[0m\u001b[0;34m)\u001b[0m\u001b[0;34m\u001b[0m\u001b[0;34m\u001b[0m\u001b[0m\n\u001b[0m\u001b[1;32m    105\u001b[0m         \u001b[0;32massert\u001b[0m \u001b[0mx\u001b[0m \u001b[0;32mis\u001b[0m \u001b[0;32mNone\u001b[0m\u001b[0;34m,\u001b[0m \u001b[0;34m\"generative methods must have no return value\"\u001b[0m\u001b[0;34m\u001b[0m\u001b[0;34m\u001b[0m\u001b[0m\n\u001b[1;32m    106\u001b[0m         \u001b[0;32mreturn\u001b[0m \u001b[0mself\u001b[0m\u001b[0;34m\u001b[0m\u001b[0;34m\u001b[0m\u001b[0m\n",
            "\u001b[0;32m~/anaconda3/lib/python3.9/site-packages/sqlalchemy/orm/query.py\u001b[0m in \u001b[0;36madd_columns\u001b[0;34m(self, *column)\u001b[0m\n\u001b[1;32m   1456\u001b[0m         \u001b[0mself\u001b[0m\u001b[0;34m.\u001b[0m\u001b[0m_raw_columns\u001b[0m \u001b[0;34m=\u001b[0m \u001b[0mlist\u001b[0m\u001b[0;34m(\u001b[0m\u001b[0mself\u001b[0m\u001b[0;34m.\u001b[0m\u001b[0m_raw_columns\u001b[0m\u001b[0;34m)\u001b[0m\u001b[0;34m\u001b[0m\u001b[0;34m\u001b[0m\u001b[0m\n\u001b[1;32m   1457\u001b[0m \u001b[0;34m\u001b[0m\u001b[0m\n\u001b[0;32m-> 1458\u001b[0;31m         self._raw_columns.extend(\n\u001b[0m\u001b[1;32m   1459\u001b[0m             coercions.expect(\n\u001b[1;32m   1460\u001b[0m                 \u001b[0mroles\u001b[0m\u001b[0;34m.\u001b[0m\u001b[0mColumnsClauseRole\u001b[0m\u001b[0;34m,\u001b[0m\u001b[0;34m\u001b[0m\u001b[0;34m\u001b[0m\u001b[0m\n",
            "\u001b[0;32m~/anaconda3/lib/python3.9/site-packages/sqlalchemy/orm/query.py\u001b[0m in \u001b[0;36m<genexpr>\u001b[0;34m(.0)\u001b[0m\n\u001b[1;32m   1457\u001b[0m \u001b[0;34m\u001b[0m\u001b[0m\n\u001b[1;32m   1458\u001b[0m         self._raw_columns.extend(\n\u001b[0;32m-> 1459\u001b[0;31m             coercions.expect(\n\u001b[0m\u001b[1;32m   1460\u001b[0m                 \u001b[0mroles\u001b[0m\u001b[0;34m.\u001b[0m\u001b[0mColumnsClauseRole\u001b[0m\u001b[0;34m,\u001b[0m\u001b[0;34m\u001b[0m\u001b[0;34m\u001b[0m\u001b[0m\n\u001b[1;32m   1461\u001b[0m                 \u001b[0mc\u001b[0m\u001b[0;34m,\u001b[0m\u001b[0;34m\u001b[0m\u001b[0;34m\u001b[0m\u001b[0m\n",
            "\u001b[0;32m~/anaconda3/lib/python3.9/site-packages/sqlalchemy/sql/coercions.py\u001b[0m in \u001b[0;36mexpect\u001b[0;34m(role, element, apply_propagate_attrs, argname, post_inspect, **kw)\u001b[0m\n\u001b[1;32m    169\u001b[0m \u001b[0;34m\u001b[0m\u001b[0m\n\u001b[1;32m    170\u001b[0m                     \u001b[0;32mif\u001b[0m \u001b[0;32mnot\u001b[0m \u001b[0mgetattr\u001b[0m\u001b[0;34m(\u001b[0m\u001b[0melement\u001b[0m\u001b[0;34m,\u001b[0m \u001b[0;34m\"is_clause_element\"\u001b[0m\u001b[0;34m,\u001b[0m \u001b[0;32mFalse\u001b[0m\u001b[0;34m)\u001b[0m\u001b[0;34m:\u001b[0m\u001b[0;34m\u001b[0m\u001b[0;34m\u001b[0m\u001b[0m\n\u001b[0;32m--> 171\u001b[0;31m                         \u001b[0melement\u001b[0m \u001b[0;34m=\u001b[0m \u001b[0melement\u001b[0m\u001b[0;34m.\u001b[0m\u001b[0m__clause_element__\u001b[0m\u001b[0;34m(\u001b[0m\u001b[0;34m)\u001b[0m\u001b[0;34m\u001b[0m\u001b[0;34m\u001b[0m\u001b[0m\n\u001b[0m\u001b[1;32m    172\u001b[0m                     \u001b[0;32melse\u001b[0m\u001b[0;34m:\u001b[0m\u001b[0;34m\u001b[0m\u001b[0;34m\u001b[0m\u001b[0m\n\u001b[1;32m    173\u001b[0m                         \u001b[0;32mbreak\u001b[0m\u001b[0;34m\u001b[0m\u001b[0;34m\u001b[0m\u001b[0m\n",
            "\u001b[0;32m~/anaconda3/lib/python3.9/site-packages/sqlalchemy/orm/attributes.py\u001b[0m in \u001b[0;36m__clause_element__\u001b[0;34m(self)\u001b[0m\n\u001b[1;32m    257\u001b[0m \u001b[0;34m\u001b[0m\u001b[0m\n\u001b[1;32m    258\u001b[0m     \u001b[0;32mdef\u001b[0m \u001b[0m__clause_element__\u001b[0m\u001b[0;34m(\u001b[0m\u001b[0mself\u001b[0m\u001b[0;34m)\u001b[0m\u001b[0;34m:\u001b[0m\u001b[0;34m\u001b[0m\u001b[0;34m\u001b[0m\u001b[0m\n\u001b[0;32m--> 259\u001b[0;31m         \u001b[0;32mreturn\u001b[0m \u001b[0mself\u001b[0m\u001b[0;34m.\u001b[0m\u001b[0mexpression\u001b[0m\u001b[0;34m\u001b[0m\u001b[0;34m\u001b[0m\u001b[0m\n\u001b[0m\u001b[1;32m    260\u001b[0m \u001b[0;34m\u001b[0m\u001b[0m\n\u001b[1;32m    261\u001b[0m     \u001b[0;34m@\u001b[0m\u001b[0mproperty\u001b[0m\u001b[0;34m\u001b[0m\u001b[0;34m\u001b[0m\u001b[0m\n",
            "\u001b[0;32m~/anaconda3/lib/python3.9/site-packages/sqlalchemy/util/langhelpers.py\u001b[0m in \u001b[0;36m__get__\u001b[0;34m(self, obj, cls)\u001b[0m\n\u001b[1;32m   1111\u001b[0m         \u001b[0;32mif\u001b[0m \u001b[0mobj\u001b[0m \u001b[0;32mis\u001b[0m \u001b[0;32mNone\u001b[0m\u001b[0;34m:\u001b[0m\u001b[0;34m\u001b[0m\u001b[0;34m\u001b[0m\u001b[0m\n\u001b[1;32m   1112\u001b[0m             \u001b[0;32mreturn\u001b[0m \u001b[0mself\u001b[0m\u001b[0;34m\u001b[0m\u001b[0;34m\u001b[0m\u001b[0m\n\u001b[0;32m-> 1113\u001b[0;31m         \u001b[0mobj\u001b[0m\u001b[0;34m.\u001b[0m\u001b[0m__dict__\u001b[0m\u001b[0;34m[\u001b[0m\u001b[0mself\u001b[0m\u001b[0;34m.\u001b[0m\u001b[0m__name__\u001b[0m\u001b[0;34m]\u001b[0m \u001b[0;34m=\u001b[0m \u001b[0mresult\u001b[0m \u001b[0;34m=\u001b[0m \u001b[0mself\u001b[0m\u001b[0;34m.\u001b[0m\u001b[0mfget\u001b[0m\u001b[0;34m(\u001b[0m\u001b[0mobj\u001b[0m\u001b[0;34m)\u001b[0m\u001b[0;34m\u001b[0m\u001b[0;34m\u001b[0m\u001b[0m\n\u001b[0m\u001b[1;32m   1114\u001b[0m         \u001b[0;32mreturn\u001b[0m \u001b[0mresult\u001b[0m\u001b[0;34m\u001b[0m\u001b[0;34m\u001b[0m\u001b[0m\n\u001b[1;32m   1115\u001b[0m \u001b[0;34m\u001b[0m\u001b[0m\n",
            "\u001b[0;32m~/anaconda3/lib/python3.9/site-packages/sqlalchemy/orm/attributes.py\u001b[0m in \u001b[0;36mexpression\u001b[0;34m(self)\u001b[0m\n\u001b[1;32m    233\u001b[0m             }\n\u001b[1;32m    234\u001b[0m \u001b[0;34m\u001b[0m\u001b[0m\n\u001b[0;32m--> 235\u001b[0;31m         \u001b[0mce\u001b[0m \u001b[0;34m=\u001b[0m \u001b[0mself\u001b[0m\u001b[0;34m.\u001b[0m\u001b[0mcomparator\u001b[0m\u001b[0;34m.\u001b[0m\u001b[0m__clause_element__\u001b[0m\u001b[0;34m(\u001b[0m\u001b[0;34m)\u001b[0m\u001b[0;34m\u001b[0m\u001b[0;34m\u001b[0m\u001b[0m\n\u001b[0m\u001b[1;32m    236\u001b[0m         \u001b[0;32mtry\u001b[0m\u001b[0;34m:\u001b[0m\u001b[0;34m\u001b[0m\u001b[0;34m\u001b[0m\u001b[0m\n\u001b[1;32m    237\u001b[0m             \u001b[0manno\u001b[0m \u001b[0;34m=\u001b[0m \u001b[0mce\u001b[0m\u001b[0;34m.\u001b[0m\u001b[0m_annotate\u001b[0m\u001b[0;34m\u001b[0m\u001b[0;34m\u001b[0m\u001b[0m\n",
            "\u001b[0;32m~/anaconda3/lib/python3.9/site-packages/sqlalchemy/util/langhelpers.py\u001b[0m in \u001b[0;36moneshot\u001b[0;34m(*args, **kw)\u001b[0m\n\u001b[1;32m   1225\u001b[0m \u001b[0;34m\u001b[0m\u001b[0m\n\u001b[1;32m   1226\u001b[0m             \u001b[0;32mdef\u001b[0m \u001b[0moneshot\u001b[0m\u001b[0;34m(\u001b[0m\u001b[0;34m*\u001b[0m\u001b[0margs\u001b[0m\u001b[0;34m,\u001b[0m \u001b[0;34m**\u001b[0m\u001b[0mkw\u001b[0m\u001b[0;34m)\u001b[0m\u001b[0;34m:\u001b[0m\u001b[0;34m\u001b[0m\u001b[0;34m\u001b[0m\u001b[0m\n\u001b[0;32m-> 1227\u001b[0;31m                 \u001b[0mresult\u001b[0m \u001b[0;34m=\u001b[0m \u001b[0mfn\u001b[0m\u001b[0;34m(\u001b[0m\u001b[0;34m*\u001b[0m\u001b[0margs\u001b[0m\u001b[0;34m,\u001b[0m \u001b[0;34m**\u001b[0m\u001b[0mkw\u001b[0m\u001b[0;34m)\u001b[0m\u001b[0;34m\u001b[0m\u001b[0;34m\u001b[0m\u001b[0m\n\u001b[0m\u001b[1;32m   1228\u001b[0m \u001b[0;34m\u001b[0m\u001b[0m\n\u001b[1;32m   1229\u001b[0m                 \u001b[0;32mdef\u001b[0m \u001b[0mmemo\u001b[0m\u001b[0;34m(\u001b[0m\u001b[0;34m*\u001b[0m\u001b[0ma\u001b[0m\u001b[0;34m,\u001b[0m \u001b[0;34m**\u001b[0m\u001b[0mkw\u001b[0m\u001b[0;34m)\u001b[0m\u001b[0;34m:\u001b[0m\u001b[0;34m\u001b[0m\u001b[0;34m\u001b[0m\u001b[0m\n",
            "\u001b[0;32m~/anaconda3/lib/python3.9/site-packages/sqlalchemy/orm/properties.py\u001b[0m in \u001b[0;36m_memoized_method___clause_element__\u001b[0;34m(self)\u001b[0m\n\u001b[1;32m    390\u001b[0m         \u001b[0;32mdef\u001b[0m \u001b[0m_memoized_method___clause_element__\u001b[0m\u001b[0;34m(\u001b[0m\u001b[0mself\u001b[0m\u001b[0;34m)\u001b[0m\u001b[0;34m:\u001b[0m\u001b[0;34m\u001b[0m\u001b[0;34m\u001b[0m\u001b[0m\n\u001b[1;32m    391\u001b[0m             \u001b[0;32mif\u001b[0m \u001b[0mself\u001b[0m\u001b[0;34m.\u001b[0m\u001b[0madapter\u001b[0m\u001b[0;34m:\u001b[0m\u001b[0;34m\u001b[0m\u001b[0;34m\u001b[0m\u001b[0m\n\u001b[0;32m--> 392\u001b[0;31m                 \u001b[0;32mreturn\u001b[0m \u001b[0mself\u001b[0m\u001b[0;34m.\u001b[0m\u001b[0madapter\u001b[0m\u001b[0;34m(\u001b[0m\u001b[0mself\u001b[0m\u001b[0;34m.\u001b[0m\u001b[0mprop\u001b[0m\u001b[0;34m.\u001b[0m\u001b[0mcolumns\u001b[0m\u001b[0;34m[\u001b[0m\u001b[0;36m0\u001b[0m\u001b[0;34m]\u001b[0m\u001b[0;34m,\u001b[0m \u001b[0mself\u001b[0m\u001b[0;34m.\u001b[0m\u001b[0mprop\u001b[0m\u001b[0;34m.\u001b[0m\u001b[0mkey\u001b[0m\u001b[0;34m)\u001b[0m\u001b[0;34m\u001b[0m\u001b[0;34m\u001b[0m\u001b[0m\n\u001b[0m\u001b[1;32m    393\u001b[0m             \u001b[0;32melse\u001b[0m\u001b[0;34m:\u001b[0m\u001b[0;34m\u001b[0m\u001b[0;34m\u001b[0m\u001b[0m\n\u001b[1;32m    394\u001b[0m                 \u001b[0;32mreturn\u001b[0m \u001b[0mself\u001b[0m\u001b[0;34m.\u001b[0m\u001b[0m_orm_annotate_column\u001b[0m\u001b[0;34m(\u001b[0m\u001b[0mself\u001b[0m\u001b[0;34m.\u001b[0m\u001b[0mprop\u001b[0m\u001b[0;34m.\u001b[0m\u001b[0mcolumns\u001b[0m\u001b[0;34m[\u001b[0m\u001b[0;36m0\u001b[0m\u001b[0;34m]\u001b[0m\u001b[0;34m)\u001b[0m\u001b[0;34m\u001b[0m\u001b[0;34m\u001b[0m\u001b[0m\n",
            "\u001b[0;32m~/anaconda3/lib/python3.9/site-packages/sqlalchemy/orm/util.py\u001b[0m in \u001b[0;36m_adapt_element\u001b[0;34m(self, elem, key)\u001b[0m\n\u001b[1;32m    797\u001b[0m             \u001b[0md\u001b[0m\u001b[0;34m[\u001b[0m\u001b[0;34m\"proxy_key\"\u001b[0m\u001b[0;34m]\u001b[0m \u001b[0;34m=\u001b[0m \u001b[0mkey\u001b[0m\u001b[0;34m\u001b[0m\u001b[0;34m\u001b[0m\u001b[0m\n\u001b[1;32m    798\u001b[0m         return (\n\u001b[0;32m--> 799\u001b[0;31m             \u001b[0mself\u001b[0m\u001b[0;34m.\u001b[0m\u001b[0m_adapter\u001b[0m\u001b[0;34m.\u001b[0m\u001b[0mtraverse\u001b[0m\u001b[0;34m(\u001b[0m\u001b[0melem\u001b[0m\u001b[0;34m)\u001b[0m\u001b[0;34m\u001b[0m\u001b[0;34m\u001b[0m\u001b[0m\n\u001b[0m\u001b[1;32m    800\u001b[0m             \u001b[0;34m.\u001b[0m\u001b[0m_annotate\u001b[0m\u001b[0;34m(\u001b[0m\u001b[0md\u001b[0m\u001b[0;34m)\u001b[0m\u001b[0;34m\u001b[0m\u001b[0;34m\u001b[0m\u001b[0m\n\u001b[1;32m    801\u001b[0m             ._set_propagate_attrs(\n",
            "\u001b[0;32m~/anaconda3/lib/python3.9/site-packages/sqlalchemy/sql/util.py\u001b[0m in \u001b[0;36mtraverse\u001b[0;34m(self, obj)\u001b[0m\n\u001b[1;32m    988\u001b[0m \u001b[0;34m\u001b[0m\u001b[0m\n\u001b[1;32m    989\u001b[0m     \u001b[0;32mdef\u001b[0m \u001b[0mtraverse\u001b[0m\u001b[0;34m(\u001b[0m\u001b[0mself\u001b[0m\u001b[0;34m,\u001b[0m \u001b[0mobj\u001b[0m\u001b[0;34m)\u001b[0m\u001b[0;34m:\u001b[0m\u001b[0;34m\u001b[0m\u001b[0;34m\u001b[0m\u001b[0m\n\u001b[0;32m--> 990\u001b[0;31m         \u001b[0;32mreturn\u001b[0m \u001b[0mself\u001b[0m\u001b[0;34m.\u001b[0m\u001b[0mcolumns\u001b[0m\u001b[0;34m[\u001b[0m\u001b[0mobj\u001b[0m\u001b[0;34m]\u001b[0m\u001b[0;34m\u001b[0m\u001b[0;34m\u001b[0m\u001b[0m\n\u001b[0m\u001b[1;32m    991\u001b[0m \u001b[0;34m\u001b[0m\u001b[0m\n\u001b[1;32m    992\u001b[0m     \u001b[0madapt_clause\u001b[0m \u001b[0;34m=\u001b[0m \u001b[0mtraverse\u001b[0m\u001b[0;34m\u001b[0m\u001b[0;34m\u001b[0m\u001b[0m\n",
            "\u001b[0;32m~/anaconda3/lib/python3.9/site-packages/sqlalchemy/util/_collections.py\u001b[0m in \u001b[0;36m__missing__\u001b[0;34m(self, key)\u001b[0m\n\u001b[1;32m    760\u001b[0m \u001b[0;34m\u001b[0m\u001b[0m\n\u001b[1;32m    761\u001b[0m     \u001b[0;32mdef\u001b[0m \u001b[0m__missing__\u001b[0m\u001b[0;34m(\u001b[0m\u001b[0mself\u001b[0m\u001b[0;34m,\u001b[0m \u001b[0mkey\u001b[0m\u001b[0;34m)\u001b[0m\u001b[0;34m:\u001b[0m\u001b[0;34m\u001b[0m\u001b[0;34m\u001b[0m\u001b[0m\n\u001b[0;32m--> 762\u001b[0;31m         \u001b[0mself\u001b[0m\u001b[0;34m[\u001b[0m\u001b[0mkey\u001b[0m\u001b[0;34m]\u001b[0m \u001b[0;34m=\u001b[0m \u001b[0mval\u001b[0m \u001b[0;34m=\u001b[0m \u001b[0mself\u001b[0m\u001b[0;34m.\u001b[0m\u001b[0mcreator\u001b[0m\u001b[0;34m(\u001b[0m\u001b[0mself\u001b[0m\u001b[0;34m.\u001b[0m\u001b[0mweakself\u001b[0m\u001b[0;34m(\u001b[0m\u001b[0;34m)\u001b[0m\u001b[0;34m,\u001b[0m \u001b[0mkey\u001b[0m\u001b[0;34m)\u001b[0m\u001b[0;34m\u001b[0m\u001b[0;34m\u001b[0m\u001b[0m\n\u001b[0m\u001b[1;32m    763\u001b[0m         \u001b[0;32mreturn\u001b[0m \u001b[0mval\u001b[0m\u001b[0;34m\u001b[0m\u001b[0;34m\u001b[0m\u001b[0m\n\u001b[1;32m    764\u001b[0m \u001b[0;34m\u001b[0m\u001b[0m\n",
            "\u001b[0;32m~/anaconda3/lib/python3.9/site-packages/sqlalchemy/sql/util.py\u001b[0m in \u001b[0;36m_locate_col\u001b[0;34m(self, col)\u001b[0m\n\u001b[1;32m   1003\u001b[0m     \u001b[0;32mdef\u001b[0m \u001b[0m_locate_col\u001b[0m\u001b[0;34m(\u001b[0m\u001b[0mself\u001b[0m\u001b[0;34m,\u001b[0m \u001b[0mcol\u001b[0m\u001b[0;34m)\u001b[0m\u001b[0;34m:\u001b[0m\u001b[0;34m\u001b[0m\u001b[0;34m\u001b[0m\u001b[0m\n\u001b[1;32m   1004\u001b[0m \u001b[0;34m\u001b[0m\u001b[0m\n\u001b[0;32m-> 1005\u001b[0;31m         \u001b[0mc\u001b[0m \u001b[0;34m=\u001b[0m \u001b[0mClauseAdapter\u001b[0m\u001b[0;34m.\u001b[0m\u001b[0mtraverse\u001b[0m\u001b[0;34m(\u001b[0m\u001b[0mself\u001b[0m\u001b[0;34m,\u001b[0m \u001b[0mcol\u001b[0m\u001b[0;34m)\u001b[0m\u001b[0;34m\u001b[0m\u001b[0;34m\u001b[0m\u001b[0m\n\u001b[0m\u001b[1;32m   1006\u001b[0m \u001b[0;34m\u001b[0m\u001b[0m\n\u001b[1;32m   1007\u001b[0m         \u001b[0;32mif\u001b[0m \u001b[0mself\u001b[0m\u001b[0;34m.\u001b[0m\u001b[0m_wrap\u001b[0m\u001b[0;34m:\u001b[0m\u001b[0;34m\u001b[0m\u001b[0;34m\u001b[0m\u001b[0m\n",
            "\u001b[0;32m~/anaconda3/lib/python3.9/site-packages/sqlalchemy/sql/visitors.py\u001b[0m in \u001b[0;36mtraverse\u001b[0;34m(self, obj)\u001b[0m\n\u001b[1;32m    613\u001b[0m                     \u001b[0;32mreturn\u001b[0m \u001b[0me\u001b[0m\u001b[0;34m\u001b[0m\u001b[0;34m\u001b[0m\u001b[0m\n\u001b[1;32m    614\u001b[0m \u001b[0;34m\u001b[0m\u001b[0m\n\u001b[0;32m--> 615\u001b[0;31m         \u001b[0;32mreturn\u001b[0m \u001b[0mreplacement_traverse\u001b[0m\u001b[0;34m(\u001b[0m\u001b[0mobj\u001b[0m\u001b[0;34m,\u001b[0m \u001b[0mself\u001b[0m\u001b[0;34m.\u001b[0m\u001b[0m__traverse_options__\u001b[0m\u001b[0;34m,\u001b[0m \u001b[0mreplace\u001b[0m\u001b[0;34m)\u001b[0m\u001b[0;34m\u001b[0m\u001b[0;34m\u001b[0m\u001b[0m\n\u001b[0m\u001b[1;32m    616\u001b[0m \u001b[0;34m\u001b[0m\u001b[0m\n\u001b[1;32m    617\u001b[0m \u001b[0;34m\u001b[0m\u001b[0m\n",
            "\u001b[0;32m~/anaconda3/lib/python3.9/site-packages/sqlalchemy/sql/visitors.py\u001b[0m in \u001b[0;36mreplacement_traverse\u001b[0;34m(obj, opts, replace)\u001b[0m\n\u001b[1;32m    842\u001b[0m \u001b[0;34m\u001b[0m\u001b[0m\n\u001b[1;32m    843\u001b[0m     \u001b[0;32mif\u001b[0m \u001b[0mobj\u001b[0m \u001b[0;32mis\u001b[0m \u001b[0;32mnot\u001b[0m \u001b[0;32mNone\u001b[0m\u001b[0;34m:\u001b[0m\u001b[0;34m\u001b[0m\u001b[0;34m\u001b[0m\u001b[0m\n\u001b[0;32m--> 844\u001b[0;31m         obj = clone(\n\u001b[0m\u001b[1;32m    845\u001b[0m             \u001b[0mobj\u001b[0m\u001b[0;34m,\u001b[0m \u001b[0mdeferred_copy_internals\u001b[0m\u001b[0;34m=\u001b[0m\u001b[0mdeferred_copy_internals\u001b[0m\u001b[0;34m,\u001b[0m \u001b[0;34m**\u001b[0m\u001b[0mopts\u001b[0m\u001b[0;34m\u001b[0m\u001b[0;34m\u001b[0m\u001b[0m\n\u001b[1;32m    846\u001b[0m         )\n",
            "\u001b[0;32m~/anaconda3/lib/python3.9/site-packages/sqlalchemy/sql/visitors.py\u001b[0m in \u001b[0;36mclone\u001b[0;34m(elem, **kw)\u001b[0m\n\u001b[1;32m    821\u001b[0m             \u001b[0;32mreturn\u001b[0m \u001b[0melem\u001b[0m\u001b[0;34m\u001b[0m\u001b[0;34m\u001b[0m\u001b[0m\n\u001b[1;32m    822\u001b[0m         \u001b[0;32melse\u001b[0m\u001b[0;34m:\u001b[0m\u001b[0;34m\u001b[0m\u001b[0;34m\u001b[0m\u001b[0m\n\u001b[0;32m--> 823\u001b[0;31m             \u001b[0mnewelem\u001b[0m \u001b[0;34m=\u001b[0m \u001b[0mreplace\u001b[0m\u001b[0;34m(\u001b[0m\u001b[0melem\u001b[0m\u001b[0;34m)\u001b[0m\u001b[0;34m\u001b[0m\u001b[0;34m\u001b[0m\u001b[0m\n\u001b[0m\u001b[1;32m    824\u001b[0m             \u001b[0;32mif\u001b[0m \u001b[0mnewelem\u001b[0m \u001b[0;32mis\u001b[0m \u001b[0;32mnot\u001b[0m \u001b[0;32mNone\u001b[0m\u001b[0;34m:\u001b[0m\u001b[0;34m\u001b[0m\u001b[0;34m\u001b[0m\u001b[0m\n\u001b[1;32m    825\u001b[0m                 \u001b[0mstop_on\u001b[0m\u001b[0;34m.\u001b[0m\u001b[0madd\u001b[0m\u001b[0;34m(\u001b[0m\u001b[0mid\u001b[0m\u001b[0;34m(\u001b[0m\u001b[0mnewelem\u001b[0m\u001b[0;34m)\u001b[0m\u001b[0;34m)\u001b[0m\u001b[0;34m\u001b[0m\u001b[0;34m\u001b[0m\u001b[0m\n",
            "\u001b[0;32m~/anaconda3/lib/python3.9/site-packages/sqlalchemy/sql/visitors.py\u001b[0m in \u001b[0;36mreplace\u001b[0;34m(elem)\u001b[0m\n\u001b[1;32m    609\u001b[0m         \u001b[0;32mdef\u001b[0m \u001b[0mreplace\u001b[0m\u001b[0;34m(\u001b[0m\u001b[0melem\u001b[0m\u001b[0;34m)\u001b[0m\u001b[0;34m:\u001b[0m\u001b[0;34m\u001b[0m\u001b[0;34m\u001b[0m\u001b[0m\n\u001b[1;32m    610\u001b[0m             \u001b[0;32mfor\u001b[0m \u001b[0mv\u001b[0m \u001b[0;32min\u001b[0m \u001b[0mself\u001b[0m\u001b[0;34m.\u001b[0m\u001b[0mvisitor_iterator\u001b[0m\u001b[0;34m:\u001b[0m\u001b[0;34m\u001b[0m\u001b[0;34m\u001b[0m\u001b[0m\n\u001b[0;32m--> 611\u001b[0;31m                 \u001b[0me\u001b[0m \u001b[0;34m=\u001b[0m \u001b[0mv\u001b[0m\u001b[0;34m.\u001b[0m\u001b[0mreplace\u001b[0m\u001b[0;34m(\u001b[0m\u001b[0melem\u001b[0m\u001b[0;34m)\u001b[0m\u001b[0;34m\u001b[0m\u001b[0;34m\u001b[0m\u001b[0m\n\u001b[0m\u001b[1;32m    612\u001b[0m                 \u001b[0;32mif\u001b[0m \u001b[0me\u001b[0m \u001b[0;32mis\u001b[0m \u001b[0;32mnot\u001b[0m \u001b[0;32mNone\u001b[0m\u001b[0;34m:\u001b[0m\u001b[0;34m\u001b[0m\u001b[0;34m\u001b[0m\u001b[0m\n\u001b[1;32m    613\u001b[0m                     \u001b[0;32mreturn\u001b[0m \u001b[0me\u001b[0m\u001b[0;34m\u001b[0m\u001b[0;34m\u001b[0m\u001b[0m\n",
            "\u001b[0;32m~/anaconda3/lib/python3.9/site-packages/sqlalchemy/sql/util.py\u001b[0m in \u001b[0;36mreplace\u001b[0;34m(self, col)\u001b[0m\n\u001b[1;32m    898\u001b[0m             \u001b[0;32mreturn\u001b[0m \u001b[0;32mNone\u001b[0m\u001b[0;34m\u001b[0m\u001b[0;34m\u001b[0m\u001b[0m\n\u001b[1;32m    899\u001b[0m         \u001b[0;32melse\u001b[0m\u001b[0;34m:\u001b[0m\u001b[0;34m\u001b[0m\u001b[0;34m\u001b[0m\u001b[0m\n\u001b[0;32m--> 900\u001b[0;31m             \u001b[0;32mreturn\u001b[0m \u001b[0mself\u001b[0m\u001b[0;34m.\u001b[0m\u001b[0m_corresponding_column\u001b[0m\u001b[0;34m(\u001b[0m\u001b[0mcol\u001b[0m\u001b[0;34m,\u001b[0m \u001b[0;32mTrue\u001b[0m\u001b[0;34m)\u001b[0m\u001b[0;34m\u001b[0m\u001b[0;34m\u001b[0m\u001b[0m\n\u001b[0m\u001b[1;32m    901\u001b[0m \u001b[0;34m\u001b[0m\u001b[0m\n\u001b[1;32m    902\u001b[0m \u001b[0;34m\u001b[0m\u001b[0m\n",
            "\u001b[0;32m~/anaconda3/lib/python3.9/site-packages/sqlalchemy/sql/util.py\u001b[0m in \u001b[0;36m_corresponding_column\u001b[0;34m(self, col, require_embedded, _seen)\u001b[0m\n\u001b[1;32m    831\u001b[0m     ):\n\u001b[1;32m    832\u001b[0m \u001b[0;34m\u001b[0m\u001b[0m\n\u001b[0;32m--> 833\u001b[0;31m         newcol = self.selectable.corresponding_column(\n\u001b[0m\u001b[1;32m    834\u001b[0m             \u001b[0mcol\u001b[0m\u001b[0;34m,\u001b[0m \u001b[0mrequire_embedded\u001b[0m\u001b[0;34m=\u001b[0m\u001b[0mrequire_embedded\u001b[0m\u001b[0;34m\u001b[0m\u001b[0;34m\u001b[0m\u001b[0m\n\u001b[1;32m    835\u001b[0m         )\n",
            "\u001b[0;32m~/anaconda3/lib/python3.9/site-packages/sqlalchemy/sql/selectable.py\u001b[0m in \u001b[0;36mcorresponding_column\u001b[0;34m(self, column, require_embedded)\u001b[0m\n\u001b[1;32m    224\u001b[0m         \"\"\"\n\u001b[1;32m    225\u001b[0m \u001b[0;34m\u001b[0m\u001b[0m\n\u001b[0;32m--> 226\u001b[0;31m         return self.exported_columns.corresponding_column(\n\u001b[0m\u001b[1;32m    227\u001b[0m             \u001b[0mcolumn\u001b[0m\u001b[0;34m,\u001b[0m \u001b[0mrequire_embedded\u001b[0m\u001b[0;34m\u001b[0m\u001b[0;34m\u001b[0m\u001b[0m\n\u001b[1;32m    228\u001b[0m         )\n",
            "\u001b[0;32m~/anaconda3/lib/python3.9/site-packages/sqlalchemy/sql/selectable.py\u001b[0m in \u001b[0;36mexported_columns\u001b[0;34m(self)\u001b[0m\n\u001b[1;32m    716\u001b[0m \u001b[0;34m\u001b[0m\u001b[0m\n\u001b[1;32m    717\u001b[0m         \"\"\"\n\u001b[0;32m--> 718\u001b[0;31m         \u001b[0;32mreturn\u001b[0m \u001b[0mself\u001b[0m\u001b[0;34m.\u001b[0m\u001b[0mcolumns\u001b[0m\u001b[0;34m\u001b[0m\u001b[0;34m\u001b[0m\u001b[0m\n\u001b[0m\u001b[1;32m    719\u001b[0m \u001b[0;34m\u001b[0m\u001b[0m\n\u001b[1;32m    720\u001b[0m     \u001b[0;34m@\u001b[0m\u001b[0mutil\u001b[0m\u001b[0;34m.\u001b[0m\u001b[0mmemoized_property\u001b[0m\u001b[0;34m\u001b[0m\u001b[0;34m\u001b[0m\u001b[0m\n",
            "\u001b[0;32m~/anaconda3/lib/python3.9/site-packages/sqlalchemy/util/langhelpers.py\u001b[0m in \u001b[0;36m__get__\u001b[0;34m(self, obj, cls)\u001b[0m\n\u001b[1;32m   1111\u001b[0m         \u001b[0;32mif\u001b[0m \u001b[0mobj\u001b[0m \u001b[0;32mis\u001b[0m \u001b[0;32mNone\u001b[0m\u001b[0;34m:\u001b[0m\u001b[0;34m\u001b[0m\u001b[0;34m\u001b[0m\u001b[0m\n\u001b[1;32m   1112\u001b[0m             \u001b[0;32mreturn\u001b[0m \u001b[0mself\u001b[0m\u001b[0;34m\u001b[0m\u001b[0;34m\u001b[0m\u001b[0m\n\u001b[0;32m-> 1113\u001b[0;31m         \u001b[0mobj\u001b[0m\u001b[0;34m.\u001b[0m\u001b[0m__dict__\u001b[0m\u001b[0;34m[\u001b[0m\u001b[0mself\u001b[0m\u001b[0;34m.\u001b[0m\u001b[0m__name__\u001b[0m\u001b[0;34m]\u001b[0m \u001b[0;34m=\u001b[0m \u001b[0mresult\u001b[0m \u001b[0;34m=\u001b[0m \u001b[0mself\u001b[0m\u001b[0;34m.\u001b[0m\u001b[0mfget\u001b[0m\u001b[0;34m(\u001b[0m\u001b[0mobj\u001b[0m\u001b[0;34m)\u001b[0m\u001b[0;34m\u001b[0m\u001b[0;34m\u001b[0m\u001b[0m\n\u001b[0m\u001b[1;32m   1114\u001b[0m         \u001b[0;32mreturn\u001b[0m \u001b[0mresult\u001b[0m\u001b[0;34m\u001b[0m\u001b[0;34m\u001b[0m\u001b[0m\n\u001b[1;32m   1115\u001b[0m \u001b[0;34m\u001b[0m\u001b[0m\n",
            "\u001b[0;32m~/anaconda3/lib/python3.9/site-packages/sqlalchemy/sql/selectable.py\u001b[0m in \u001b[0;36mcolumns\u001b[0;34m(self)\u001b[0m\n\u001b[1;32m    736\u001b[0m             \u001b[0mself\u001b[0m\u001b[0;34m.\u001b[0m\u001b[0m_init_collections\u001b[0m\u001b[0;34m(\u001b[0m\u001b[0;34m)\u001b[0m\u001b[0;34m\u001b[0m\u001b[0;34m\u001b[0m\u001b[0m\n\u001b[1;32m    737\u001b[0m             \u001b[0mself\u001b[0m\u001b[0;34m.\u001b[0m\u001b[0m_populate_column_collection\u001b[0m\u001b[0;34m(\u001b[0m\u001b[0;34m)\u001b[0m\u001b[0;34m\u001b[0m\u001b[0;34m\u001b[0m\u001b[0m\n\u001b[0;32m--> 738\u001b[0;31m         \u001b[0;32mreturn\u001b[0m \u001b[0mself\u001b[0m\u001b[0;34m.\u001b[0m\u001b[0m_columns\u001b[0m\u001b[0;34m.\u001b[0m\u001b[0mas_immutable\u001b[0m\u001b[0;34m(\u001b[0m\u001b[0;34m)\u001b[0m\u001b[0;34m\u001b[0m\u001b[0;34m\u001b[0m\u001b[0m\n\u001b[0m\u001b[1;32m    739\u001b[0m \u001b[0;34m\u001b[0m\u001b[0m\n\u001b[1;32m    740\u001b[0m     \u001b[0;34m@\u001b[0m\u001b[0mproperty\u001b[0m\u001b[0;34m\u001b[0m\u001b[0;34m\u001b[0m\u001b[0m\n",
            "\u001b[0;31mKeyboardInterrupt\u001b[0m: "
          ]
        }
      ],
      "source": [
        "qgrs = list()\n",
        "\n",
        "for structure in structures:\n",
        "    print('Running structure', structure)\n",
        "    atoms = structure\n",
        "    composition = dict(Counter(atoms.symbols))\n",
        "    qgr = QuasiGraph(atoms)\n",
        "    vector = qgr.get_vector().tolist()\n",
        "    qgrs.append(vector)\n",
        "\n",
        "columns = []\n",
        "for atomnum in range(len(atoms)):\n",
        "    column_tmp = 'group_id_atm' + str(atomnum), 'period_atm' + str(atomnum), 'covalent_radius_atm' + str(atomnum), 'en_pauling_atm' + str(atomnum), 'CN1_atm' + str(atomnum), 'CN2_atm' + str(atomnum)\n",
        "    columns.extend(column_tmp)\n",
        "\n",
        "#df = pd.DataFrame({'quasigraph': qgrs, 'FE': formation_energies})\n",
        "df1 = pd.DataFrame(qgrs,columns=columns)\n",
        "\n",
        "print(df1)"
      ]
    },
    {
      "cell_type": "code",
      "execution_count": null,
      "id": "7e37f7c6",
      "metadata": {
        "id": "7e37f7c6"
      },
      "outputs": [],
      "source": [
        "#df1.to_csv('M55_QuasiGraph.csv', index=False)\n",
        "df1 = pd.read_csv('M55_QuasiGraph.csv')"
      ]
    },
    {
      "cell_type": "code",
      "execution_count": null,
      "id": "950f2bb0",
      "metadata": {
        "id": "950f2bb0"
      },
      "outputs": [],
      "source": [
        "#df1 = pd.read_csv('C13H_mod.csv')\n",
        "\n",
        "#df_index = pd.merge(df1, soap_features, right_index=True, left_index=True)\n",
        "\n",
        "#df_index = df1\n",
        "\n",
        "df_index = soap_features\n",
        "\n",
        "#df_index = pd.merge(df1, mbtr_features_df, right_index=True, left_index=True)\n",
        "\n",
        "#df_temp = pd.merge(df1, soap_features, right_index=True, left_index=True)\n",
        "#df_index = pd.merge(df_temp, mbtr_features_df, right_index=True, left_index=True)\n",
        "\n",
        "#df_index = mbtr_features_df\n",
        "\n",
        "#df_index = df1"
      ]
    },
    {
      "cell_type": "markdown",
      "id": "ec203501",
      "metadata": {
        "id": "ec203501"
      },
      "source": [
        "### Get DeltaG"
      ]
    },
    {
      "cell_type": "code",
      "execution_count": null,
      "id": "edcced11",
      "metadata": {
        "id": "edcced11",
        "outputId": "47f13a57-372f-4a10-f44f-2b388aee70c6"
      },
      "outputs": [
        {
          "data": {
            "text/html": [
              "<div>\n",
              "<style scoped>\n",
              "    .dataframe tbody tr th:only-of-type {\n",
              "        vertical-align: middle;\n",
              "    }\n",
              "\n",
              "    .dataframe tbody tr th {\n",
              "        vertical-align: top;\n",
              "    }\n",
              "\n",
              "    .dataframe thead th {\n",
              "        text-align: right;\n",
              "    }\n",
              "</style>\n",
              "<table border=\"1\" class=\"dataframe\">\n",
              "  <thead>\n",
              "    <tr style=\"text-align: right;\">\n",
              "      <th></th>\n",
              "      <th>id</th>\n",
              "      <th>dG</th>\n",
              "    </tr>\n",
              "  </thead>\n",
              "  <tbody>\n",
              "    <tr>\n",
              "      <th>count</th>\n",
              "      <td>741.000000</td>\n",
              "      <td>741.000000</td>\n",
              "    </tr>\n",
              "    <tr>\n",
              "      <th>mean</th>\n",
              "      <td>387.190283</td>\n",
              "      <td>-0.031604</td>\n",
              "    </tr>\n",
              "    <tr>\n",
              "      <th>std</th>\n",
              "      <td>223.684829</td>\n",
              "      <td>0.323225</td>\n",
              "    </tr>\n",
              "    <tr>\n",
              "      <th>min</th>\n",
              "      <td>1.000000</td>\n",
              "      <td>-1.080725</td>\n",
              "    </tr>\n",
              "    <tr>\n",
              "      <th>25%</th>\n",
              "      <td>191.000000</td>\n",
              "      <td>-0.270976</td>\n",
              "    </tr>\n",
              "    <tr>\n",
              "      <th>50%</th>\n",
              "      <td>389.000000</td>\n",
              "      <td>-0.054019</td>\n",
              "    </tr>\n",
              "    <tr>\n",
              "      <th>75%</th>\n",
              "      <td>577.000000</td>\n",
              "      <td>0.159684</td>\n",
              "    </tr>\n",
              "    <tr>\n",
              "      <th>max</th>\n",
              "      <td>773.000000</td>\n",
              "      <td>1.162290</td>\n",
              "    </tr>\n",
              "  </tbody>\n",
              "</table>\n",
              "</div>"
            ],
            "text/plain": [
              "               id          dG\n",
              "count  741.000000  741.000000\n",
              "mean   387.190283   -0.031604\n",
              "std    223.684829    0.323225\n",
              "min      1.000000   -1.080725\n",
              "25%    191.000000   -0.270976\n",
              "50%    389.000000   -0.054019\n",
              "75%    577.000000    0.159684\n",
              "max    773.000000    1.162290"
            ]
          },
          "execution_count": 12,
          "metadata": {},
          "output_type": "execute_result"
        }
      ],
      "source": [
        "DeltaGs = pd.read_csv(\"M55H.csv\", delimiter=\",\")\n",
        "DeltaGs.describe()"
      ]
    },
    {
      "cell_type": "code",
      "execution_count": null,
      "id": "b3865e13",
      "metadata": {
        "id": "b3865e13",
        "outputId": "2980e330-c92e-42db-ecf1-1034c6afa65c"
      },
      "outputs": [
        {
          "data": {
            "text/plain": [
              "<AxesSubplot:>"
            ]
          },
          "execution_count": 13,
          "metadata": {},
          "output_type": "execute_result"
        },
        {
          "data": {
            "image/png": "[encoded data removed]",
            "text/plain": [
              "<Figure size 1080x720 with 1 Axes>"
            ]
          },
          "metadata": {
            "needs_background": "light"
          },
          "output_type": "display_data"
        }
      ],
      "source": [
        "\n",
        "DeltaGs['dG'].hist(bins=50, figsize=(15, 10))  # Adjust the number of bins and figure size as needed\n"
      ]
    },
    {
      "cell_type": "markdown",
      "id": "b9015394",
      "metadata": {
        "id": "b9015394"
      },
      "source": [
        "### Optimize the XGBoost hyperparameters"
      ]
    },
    {
      "cell_type": "code",
      "execution_count": null,
      "id": "188445e8",
      "metadata": {
        "id": "188445e8",
        "outputId": "51a8433d-119f-4954-9c10-d7d67469e1a1"
      },
      "outputs": [
        {
          "name": "stderr",
          "output_type": "stream",
          "text": [
            "[I 2024-05-06 13:34:50,724] A new study created in memory with name: no-name-aadec776-60fd-4c22-a1be-28a907f7f2ba\n",
            "/home/ABTLUS/james.almeida/anaconda3/lib/python3.9/site-packages/sklearn/metrics/_regression.py:483: FutureWarning: 'squared' is deprecated in version 1.4 and will be removed in 1.6. To calculate the root mean squared error, use the function'root_mean_squared_error'.\n",
            "  warnings.warn(\n",
            "[I 2024-05-06 13:35:08,033] Trial 0 finished with value: 0.2825110505822743 and parameters: {'n_estimators': 297, 'max_depth': 11, 'min_child_weight': 2, 'gamma': 0.37998043564824113, 'learning_rate': 0.24400549493724194, 'subsample': 0.7503252318669078, 'colsample_bytree': 0.8418998088944358}. Best is trial 0 with value: 0.2825110505822743.\n",
            "/home/ABTLUS/james.almeida/anaconda3/lib/python3.9/site-packages/sklearn/metrics/_regression.py:483: FutureWarning: 'squared' is deprecated in version 1.4 and will be removed in 1.6. To calculate the root mean squared error, use the function'root_mean_squared_error'.\n",
            "  warnings.warn(\n",
            "[I 2024-05-06 13:35:29,634] Trial 1 finished with value: 0.28415572320615073 and parameters: {'n_estimators': 74, 'max_depth': 13, 'min_child_weight': 8, 'gamma': 0.2107731938482335, 'learning_rate': 0.09650739553779028, 'subsample': 0.8319950863716283, 'colsample_bytree': 0.6772891445821193}. Best is trial 0 with value: 0.2825110505822743.\n",
            "/home/ABTLUS/james.almeida/anaconda3/lib/python3.9/site-packages/sklearn/metrics/_regression.py:483: FutureWarning: 'squared' is deprecated in version 1.4 and will be removed in 1.6. To calculate the root mean squared error, use the function'root_mean_squared_error'.\n",
            "  warnings.warn(\n",
            "[I 2024-05-06 13:36:15,659] Trial 2 finished with value: 0.2798018536391299 and parameters: {'n_estimators': 222, 'max_depth': 17, 'min_child_weight': 9, 'gamma': 0.5578402174978087, 'learning_rate': 0.02782522691571141, 'subsample': 0.6073182771974182, 'colsample_bytree': 0.5465580602062368}. Best is trial 2 with value: 0.2798018536391299.\n",
            "/home/ABTLUS/james.almeida/anaconda3/lib/python3.9/site-packages/sklearn/metrics/_regression.py:483: FutureWarning: 'squared' is deprecated in version 1.4 and will be removed in 1.6. To calculate the root mean squared error, use the function'root_mean_squared_error'.\n",
            "  warnings.warn(\n",
            "[I 2024-05-06 13:36:42,228] Trial 3 finished with value: 0.2852102464647806 and parameters: {'n_estimators': 313, 'max_depth': 10, 'min_child_weight': 6, 'gamma': 0.20522413444551305, 'learning_rate': 0.15244063731383276, 'subsample': 0.965882499567573, 'colsample_bytree': 0.5522958333103218}. Best is trial 2 with value: 0.2798018536391299.\n",
            "/home/ABTLUS/james.almeida/anaconda3/lib/python3.9/site-packages/sklearn/metrics/_regression.py:483: FutureWarning: 'squared' is deprecated in version 1.4 and will be removed in 1.6. To calculate the root mean squared error, use the function'root_mean_squared_error'.\n",
            "  warnings.warn(\n",
            "[I 2024-05-06 13:37:05,890] Trial 4 finished with value: 0.2909239589773406 and parameters: {'n_estimators': 251, 'max_depth': 13, 'min_child_weight': 7, 'gamma': 0.6480553133876145, 'learning_rate': 0.2926629961255298, 'subsample': 0.670890840654909, 'colsample_bytree': 0.7176832788465497}. Best is trial 2 with value: 0.2798018536391299.\n",
            "/home/ABTLUS/james.almeida/anaconda3/lib/python3.9/site-packages/sklearn/metrics/_regression.py:483: FutureWarning: 'squared' is deprecated in version 1.4 and will be removed in 1.6. To calculate the root mean squared error, use the function'root_mean_squared_error'.\n",
            "  warnings.warn(\n",
            "[I 2024-05-06 13:39:17,420] Trial 5 finished with value: 0.2787638927085543 and parameters: {'n_estimators': 342, 'max_depth': 12, 'min_child_weight': 8, 'gamma': 0.2219666323167166, 'learning_rate': 0.015333729676131384, 'subsample': 0.972559915426846, 'colsample_bytree': 0.9831357380641226}. Best is trial 5 with value: 0.2787638927085543.\n",
            "/home/ABTLUS/james.almeida/anaconda3/lib/python3.9/site-packages/sklearn/metrics/_regression.py:483: FutureWarning: 'squared' is deprecated in version 1.4 and will be removed in 1.6. To calculate the root mean squared error, use the function'root_mean_squared_error'.\n",
            "  warnings.warn(\n",
            "[I 2024-05-06 13:39:38,919] Trial 6 finished with value: 0.27535674891153333 and parameters: {'n_estimators': 91, 'max_depth': 5, 'min_child_weight': 3, 'gamma': 0.5889510171920875, 'learning_rate': 0.07089815895019407, 'subsample': 0.8292795041463874, 'colsample_bytree': 0.725164659653093}. Best is trial 6 with value: 0.27535674891153333.\n",
            "/home/ABTLUS/james.almeida/anaconda3/lib/python3.9/site-packages/sklearn/metrics/_regression.py:483: FutureWarning: 'squared' is deprecated in version 1.4 and will be removed in 1.6. To calculate the root mean squared error, use the function'root_mean_squared_error'.\n",
            "  warnings.warn(\n",
            "[I 2024-05-06 13:39:58,605] Trial 7 finished with value: 0.2682234586208839 and parameters: {'n_estimators': 82, 'max_depth': 8, 'min_child_weight': 3, 'gamma': 0.2762302058262752, 'learning_rate': 0.18397887369789961, 'subsample': 0.6377407853607076, 'colsample_bytree': 0.7185217129904486}. Best is trial 7 with value: 0.2682234586208839.\n",
            "/home/ABTLUS/james.almeida/anaconda3/lib/python3.9/site-packages/sklearn/metrics/_regression.py:483: FutureWarning: 'squared' is deprecated in version 1.4 and will be removed in 1.6. To calculate the root mean squared error, use the function'root_mean_squared_error'.\n",
            "  warnings.warn(\n",
            "[I 2024-05-06 13:40:21,702] Trial 8 finished with value: 0.29467443239200647 and parameters: {'n_estimators': 289, 'max_depth': 15, 'min_child_weight': 2, 'gamma': 0.4860730852105941, 'learning_rate': 0.21571481435465356, 'subsample': 0.6668584214329255, 'colsample_bytree': 0.8845681777683471}. Best is trial 7 with value: 0.2682234586208839.\n",
            "/home/ABTLUS/james.almeida/anaconda3/lib/python3.9/site-packages/sklearn/metrics/_regression.py:483: FutureWarning: 'squared' is deprecated in version 1.4 and will be removed in 1.6. To calculate the root mean squared error, use the function'root_mean_squared_error'.\n",
            "  warnings.warn(\n",
            "[I 2024-05-06 13:40:57,037] Trial 9 finished with value: 0.29059960344857355 and parameters: {'n_estimators': 83, 'max_depth': 14, 'min_child_weight': 5, 'gamma': 0.9601713643076839, 'learning_rate': 0.013197243619251637, 'subsample': 0.9793995303796843, 'colsample_bytree': 0.9114623996615965}. Best is trial 7 with value: 0.2682234586208839.\n",
            "/home/ABTLUS/james.almeida/anaconda3/lib/python3.9/site-packages/sklearn/metrics/_regression.py:483: FutureWarning: 'squared' is deprecated in version 1.4 and will be removed in 1.6. To calculate the root mean squared error, use the function'root_mean_squared_error'.\n",
            "  warnings.warn(\n",
            "[I 2024-05-06 13:41:35,429] Trial 10 finished with value: 0.27225151457018865 and parameters: {'n_estimators': 166, 'max_depth': 3, 'min_child_weight': 4, 'gamma': 0.10397630629866265, 'learning_rate': 0.04044919261125237, 'subsample': 0.5026436781787724, 'colsample_bytree': 0.6364137325135806}. Best is trial 7 with value: 0.2682234586208839.\n",
            "/home/ABTLUS/james.almeida/anaconda3/lib/python3.9/site-packages/sklearn/metrics/_regression.py:483: FutureWarning: 'squared' is deprecated in version 1.4 and will be removed in 1.6. To calculate the root mean squared error, use the function'root_mean_squared_error'.\n",
            "  warnings.warn(\n",
            "[I 2024-05-06 13:42:22,068] Trial 11 finished with value: 0.27632176233554845 and parameters: {'n_estimators': 166, 'max_depth': 4, 'min_child_weight': 4, 'gamma': 0.1043591280930169, 'learning_rate': 0.038552989480085974, 'subsample': 0.515334474344777, 'colsample_bytree': 0.6221951637131644}. Best is trial 7 with value: 0.2682234586208839.\n",
            "/home/ABTLUS/james.almeida/anaconda3/lib/python3.9/site-packages/sklearn/metrics/_regression.py:483: FutureWarning: 'squared' is deprecated in version 1.4 and will be removed in 1.6. To calculate the root mean squared error, use the function'root_mean_squared_error'.\n",
            "  warnings.warn(\n",
            "[I 2024-05-06 13:43:22,163] Trial 12 finished with value: 0.27573537585040575 and parameters: {'n_estimators': 152, 'max_depth': 7, 'min_child_weight': 1, 'gamma': 0.11356830429807663, 'learning_rate': 0.04721621295126316, 'subsample': 0.5042849767657921, 'colsample_bytree': 0.8074447015052276}. Best is trial 7 with value: 0.2682234586208839.\n"
          ]
        },
        {
          "name": "stderr",
          "output_type": "stream",
          "text": [
            "/home/ABTLUS/james.almeida/anaconda3/lib/python3.9/site-packages/sklearn/metrics/_regression.py:483: FutureWarning: 'squared' is deprecated in version 1.4 and will be removed in 1.6. To calculate the root mean squared error, use the function'root_mean_squared_error'.\n",
            "  warnings.warn(\n",
            "[I 2024-05-06 13:43:57,219] Trial 13 finished with value: 0.2850971667818685 and parameters: {'n_estimators': 145, 'max_depth': 8, 'min_child_weight': 4, 'gamma': 0.1367367880699944, 'learning_rate': 0.10734772583173108, 'subsample': 0.581332745432164, 'colsample_bytree': 0.6370687501431884}. Best is trial 7 with value: 0.2682234586208839.\n",
            "/home/ABTLUS/james.almeida/anaconda3/lib/python3.9/site-packages/sklearn/metrics/_regression.py:483: FutureWarning: 'squared' is deprecated in version 1.4 and will be removed in 1.6. To calculate the root mean squared error, use the function'root_mean_squared_error'.\n",
            "  warnings.warn(\n",
            "[I 2024-05-06 13:44:42,860] Trial 14 finished with value: 0.27733196583919006 and parameters: {'n_estimators': 195, 'max_depth': 3, 'min_child_weight': 5, 'gamma': 0.1567535404602765, 'learning_rate': 0.02478529936987341, 'subsample': 0.5847263666210444, 'colsample_bytree': 0.7746615971110353}. Best is trial 7 with value: 0.2682234586208839.\n",
            "/home/ABTLUS/james.almeida/anaconda3/lib/python3.9/site-packages/sklearn/metrics/_regression.py:483: FutureWarning: 'squared' is deprecated in version 1.4 and will be removed in 1.6. To calculate the root mean squared error, use the function'root_mean_squared_error'.\n",
            "  warnings.warn(\n",
            "[I 2024-05-06 13:45:16,719] Trial 15 finished with value: 0.27307794744063213 and parameters: {'n_estimators': 117, 'max_depth': 7, 'min_child_weight': 3, 'gamma': 0.34475788476427943, 'learning_rate': 0.06885592084072206, 'subsample': 0.6723673912456153, 'colsample_bytree': 0.5973524905417581}. Best is trial 7 with value: 0.2682234586208839.\n",
            "/home/ABTLUS/james.almeida/anaconda3/lib/python3.9/site-packages/sklearn/metrics/_regression.py:483: FutureWarning: 'squared' is deprecated in version 1.4 and will be removed in 1.6. To calculate the root mean squared error, use the function'root_mean_squared_error'.\n",
            "  warnings.warn(\n",
            "[I 2024-05-06 13:45:34,915] Trial 16 finished with value: 0.27585936595253624 and parameters: {'n_estimators': 52, 'max_depth': 5, 'min_child_weight': 1, 'gamma': 0.26925272072024553, 'learning_rate': 0.14078418529488854, 'subsample': 0.7466637890454937, 'colsample_bytree': 0.6983614070519665}. Best is trial 7 with value: 0.2682234586208839.\n",
            "/home/ABTLUS/james.almeida/anaconda3/lib/python3.9/site-packages/sklearn/metrics/_regression.py:483: FutureWarning: 'squared' is deprecated in version 1.4 and will be removed in 1.6. To calculate the root mean squared error, use the function'root_mean_squared_error'.\n",
            "  warnings.warn(\n",
            "[I 2024-05-06 13:46:27,209] Trial 17 finished with value: 0.2818738591971794 and parameters: {'n_estimators': 126, 'max_depth': 20, 'min_child_weight': 6, 'gamma': 0.16384067584612105, 'learning_rate': 0.03250658802680972, 'subsample': 0.5510780903197793, 'colsample_bytree': 0.5082748949731029}. Best is trial 7 with value: 0.2682234586208839.\n",
            "/home/ABTLUS/james.almeida/anaconda3/lib/python3.9/site-packages/sklearn/metrics/_regression.py:483: FutureWarning: 'squared' is deprecated in version 1.4 and will be removed in 1.6. To calculate the root mean squared error, use the function'root_mean_squared_error'.\n",
            "  warnings.warn(\n",
            "[I 2024-05-06 13:47:31,034] Trial 18 finished with value: 0.2774089443331614 and parameters: {'n_estimators': 192, 'max_depth': 9, 'min_child_weight': 4, 'gamma': 0.2880845594961116, 'learning_rate': 0.01890068164058812, 'subsample': 0.6253130545175037, 'colsample_bytree': 0.6562275761852958}. Best is trial 7 with value: 0.2682234586208839.\n",
            "/home/ABTLUS/james.almeida/anaconda3/lib/python3.9/site-packages/sklearn/metrics/_regression.py:483: FutureWarning: 'squared' is deprecated in version 1.4 and will be removed in 1.6. To calculate the root mean squared error, use the function'root_mean_squared_error'.\n",
            "  warnings.warn(\n",
            "[I 2024-05-06 13:48:02,676] Trial 19 finished with value: 0.2732698964508365 and parameters: {'n_estimators': 246, 'max_depth': 6, 'min_child_weight': 10, 'gamma': 0.4279529086706015, 'learning_rate': 0.052853908313413765, 'subsample': 0.7602378073178195, 'colsample_bytree': 0.7682197425483575}. Best is trial 7 with value: 0.2682234586208839.\n",
            "/home/ABTLUS/james.almeida/anaconda3/lib/python3.9/site-packages/sklearn/metrics/_regression.py:483: FutureWarning: 'squared' is deprecated in version 1.4 and will be removed in 1.6. To calculate the root mean squared error, use the function'root_mean_squared_error'.\n",
            "  warnings.warn(\n",
            "[I 2024-05-06 13:48:24,137] Trial 20 finished with value: 0.28695183668738333 and parameters: {'n_estimators': 376, 'max_depth': 3, 'min_child_weight': 3, 'gamma': 0.9150502862746935, 'learning_rate': 0.17356134821031505, 'subsample': 0.5311151298704616, 'colsample_bytree': 0.5760741181010027}. Best is trial 7 with value: 0.2682234586208839.\n",
            "/home/ABTLUS/james.almeida/anaconda3/lib/python3.9/site-packages/sklearn/metrics/_regression.py:483: FutureWarning: 'squared' is deprecated in version 1.4 and will be removed in 1.6. To calculate the root mean squared error, use the function'root_mean_squared_error'.\n",
            "  warnings.warn(\n",
            "[I 2024-05-06 13:48:51,744] Trial 21 finished with value: 0.2710244458817657 and parameters: {'n_estimators': 111, 'max_depth': 7, 'min_child_weight': 3, 'gamma': 0.3464974866268846, 'learning_rate': 0.07776196212528304, 'subsample': 0.6726997285263414, 'colsample_bytree': 0.6057830582074271}. Best is trial 7 with value: 0.2682234586208839.\n",
            "/home/ABTLUS/james.almeida/anaconda3/lib/python3.9/site-packages/sklearn/metrics/_regression.py:483: FutureWarning: 'squared' is deprecated in version 1.4 and will be removed in 1.6. To calculate the root mean squared error, use the function'root_mean_squared_error'.\n",
            "  warnings.warn(\n",
            "[I 2024-05-06 13:49:20,223] Trial 22 finished with value: 0.28291073190292615 and parameters: {'n_estimators': 111, 'max_depth': 9, 'min_child_weight': 2, 'gamma': 0.25988118189426995, 'learning_rate': 0.08324744733888352, 'subsample': 0.7168194152041131, 'colsample_bytree': 0.65319998160646}. Best is trial 7 with value: 0.2682234586208839.\n",
            "/home/ABTLUS/james.almeida/anaconda3/lib/python3.9/site-packages/sklearn/metrics/_regression.py:483: FutureWarning: 'squared' is deprecated in version 1.4 and will be removed in 1.6. To calculate the root mean squared error, use the function'root_mean_squared_error'.\n",
            "  warnings.warn(\n",
            "[I 2024-05-06 13:49:33,410] Trial 23 finished with value: 0.2812770301363169 and parameters: {'n_estimators': 57, 'max_depth': 6, 'min_child_weight': 4, 'gamma': 0.7375113357687801, 'learning_rate': 0.11061873208966133, 'subsample': 0.6281099015724831, 'colsample_bytree': 0.5052254296875347}. Best is trial 7 with value: 0.2682234586208839.\n",
            "/home/ABTLUS/james.almeida/anaconda3/lib/python3.9/site-packages/sklearn/metrics/_regression.py:483: FutureWarning: 'squared' is deprecated in version 1.4 and will be removed in 1.6. To calculate the root mean squared error, use the function'root_mean_squared_error'.\n",
            "  warnings.warn(\n",
            "[I 2024-05-06 13:50:45,035] Trial 24 finished with value: 0.2825704740233425 and parameters: {'n_estimators': 168, 'max_depth': 8, 'min_child_weight': 3, 'gamma': 0.42824253240754084, 'learning_rate': 0.01036039834911389, 'subsample': 0.8348604565538174, 'colsample_bytree': 0.5949744373877855}. Best is trial 7 with value: 0.2682234586208839.\n",
            "/home/ABTLUS/james.almeida/anaconda3/lib/python3.9/site-packages/sklearn/metrics/_regression.py:483: FutureWarning: 'squared' is deprecated in version 1.4 and will be removed in 1.6. To calculate the root mean squared error, use the function'root_mean_squared_error'.\n",
            "  warnings.warn(\n",
            "[I 2024-05-06 13:51:18,956] Trial 25 finished with value: 0.2790800502819528 and parameters: {'n_estimators': 106, 'max_depth': 5, 'min_child_weight': 5, 'gamma': 0.18238285925138967, 'learning_rate': 0.045668734155433065, 'subsample': 0.7104527752902196, 'colsample_bytree': 0.7394637971778819}. Best is trial 7 with value: 0.2682234586208839.\n",
            "/home/ABTLUS/james.almeida/anaconda3/lib/python3.9/site-packages/sklearn/metrics/_regression.py:483: FutureWarning: 'squared' is deprecated in version 1.4 and will be removed in 1.6. To calculate the root mean squared error, use the function'root_mean_squared_error'.\n",
            "  warnings.warn(\n",
            "[I 2024-05-06 13:51:46,465] Trial 26 finished with value: 0.2747592316435733 and parameters: {'n_estimators': 132, 'max_depth': 3, 'min_child_weight': 2, 'gamma': 0.33835949850154046, 'learning_rate': 0.06648371316706737, 'subsample': 0.5511727776396462, 'colsample_bytree': 0.6827466227453455}. Best is trial 7 with value: 0.2682234586208839.\n"
          ]
        },
        {
          "name": "stderr",
          "output_type": "stream",
          "text": [
            "/home/ABTLUS/james.almeida/anaconda3/lib/python3.9/site-packages/sklearn/metrics/_regression.py:483: FutureWarning: 'squared' is deprecated in version 1.4 and will be removed in 1.6. To calculate the root mean squared error, use the function'root_mean_squared_error'.\n",
            "  warnings.warn(\n",
            "[I 2024-05-06 13:52:15,237] Trial 27 finished with value: 0.27882061801322083 and parameters: {'n_estimators': 193, 'max_depth': 10, 'min_child_weight': 1, 'gamma': 0.1284556854950292, 'learning_rate': 0.1252329344229833, 'subsample': 0.6465111633438552, 'colsample_bytree': 0.6142154257657058}. Best is trial 7 with value: 0.2682234586208839.\n",
            "/home/ABTLUS/james.almeida/anaconda3/lib/python3.9/site-packages/sklearn/metrics/_regression.py:483: FutureWarning: 'squared' is deprecated in version 1.4 and will be removed in 1.6. To calculate the root mean squared error, use the function'root_mean_squared_error'.\n",
            "  warnings.warn(\n",
            "[I 2024-05-06 13:52:49,987] Trial 28 finished with value: 0.27617054670325264 and parameters: {'n_estimators': 91, 'max_depth': 7, 'min_child_weight': 4, 'gamma': 0.2511067288867057, 'learning_rate': 0.03522188667120036, 'subsample': 0.8840203363693593, 'colsample_bytree': 0.5488406330685167}. Best is trial 7 with value: 0.2682234586208839.\n",
            "/home/ABTLUS/james.almeida/anaconda3/lib/python3.9/site-packages/sklearn/metrics/_regression.py:483: FutureWarning: 'squared' is deprecated in version 1.4 and will be removed in 1.6. To calculate the root mean squared error, use the function'root_mean_squared_error'.\n",
            "  warnings.warn(\n",
            "[I 2024-05-06 13:53:17,265] Trial 29 finished with value: 0.28593189445261935 and parameters: {'n_estimators': 174, 'max_depth': 11, 'min_child_weight': 3, 'gamma': 0.3893980125926311, 'learning_rate': 0.2158708410072714, 'subsample': 0.7825586117890981, 'colsample_bytree': 0.7909524802550355}. Best is trial 7 with value: 0.2682234586208839.\n",
            "/home/ABTLUS/james.almeida/anaconda3/lib/python3.9/site-packages/sklearn/metrics/_regression.py:483: FutureWarning: 'squared' is deprecated in version 1.4 and will be removed in 1.6. To calculate the root mean squared error, use the function'root_mean_squared_error'.\n",
            "  warnings.warn(\n",
            "[I 2024-05-06 13:53:35,256] Trial 30 finished with value: 0.2861504404882619 and parameters: {'n_estimators': 215, 'max_depth': 9, 'min_child_weight': 6, 'gamma': 0.3333630735128845, 'learning_rate': 0.1888757105967949, 'subsample': 0.7149305582396397, 'colsample_bytree': 0.692936467630279}. Best is trial 7 with value: 0.2682234586208839.\n",
            "/home/ABTLUS/james.almeida/anaconda3/lib/python3.9/site-packages/sklearn/metrics/_regression.py:483: FutureWarning: 'squared' is deprecated in version 1.4 and will be removed in 1.6. To calculate the root mean squared error, use the function'root_mean_squared_error'.\n",
            "  warnings.warn(\n",
            "[I 2024-05-06 13:54:03,282] Trial 31 finished with value: 0.2781132548421843 and parameters: {'n_estimators': 117, 'max_depth': 7, 'min_child_weight': 3, 'gamma': 0.3523186831206631, 'learning_rate': 0.06039314404925168, 'subsample': 0.6900816264289827, 'colsample_bytree': 0.5882797033351458}. Best is trial 7 with value: 0.2682234586208839.\n",
            "/home/ABTLUS/james.almeida/anaconda3/lib/python3.9/site-packages/sklearn/metrics/_regression.py:483: FutureWarning: 'squared' is deprecated in version 1.4 and will be removed in 1.6. To calculate the root mean squared error, use the function'root_mean_squared_error'.\n",
            "  warnings.warn(\n",
            "[I 2024-05-06 13:54:23,635] Trial 32 finished with value: 0.27997320948342963 and parameters: {'n_estimators': 70, 'max_depth': 6, 'min_child_weight': 2, 'gamma': 0.3019381964452851, 'learning_rate': 0.08366076415563452, 'subsample': 0.5864785619373849, 'colsample_bytree': 0.6597979710033084}. Best is trial 7 with value: 0.2682234586208839.\n",
            "/home/ABTLUS/james.almeida/anaconda3/lib/python3.9/site-packages/sklearn/metrics/_regression.py:483: FutureWarning: 'squared' is deprecated in version 1.4 and will be removed in 1.6. To calculate the root mean squared error, use the function'root_mean_squared_error'.\n",
            "  warnings.warn(\n",
            "[I 2024-05-06 13:54:57,108] Trial 33 finished with value: 0.27392511752556786 and parameters: {'n_estimators': 138, 'max_depth': 4, 'min_child_weight': 2, 'gamma': 0.47089040744965077, 'learning_rate': 0.024528164372749982, 'subsample': 0.6513240790237935, 'colsample_bytree': 0.613575834384838}. Best is trial 7 with value: 0.2682234586208839.\n",
            "/home/ABTLUS/james.almeida/anaconda3/lib/python3.9/site-packages/sklearn/metrics/_regression.py:483: FutureWarning: 'squared' is deprecated in version 1.4 and will be removed in 1.6. To calculate the root mean squared error, use the function'root_mean_squared_error'.\n",
            "  warnings.warn(\n",
            "[I 2024-05-06 13:55:23,014] Trial 34 finished with value: 0.27816943483027134 and parameters: {'n_estimators': 101, 'max_depth': 8, 'min_child_weight': 3, 'gamma': 0.23018563229177352, 'learning_rate': 0.08320130710297563, 'subsample': 0.6038361748818434, 'colsample_bytree': 0.5357051545368317}. Best is trial 7 with value: 0.2682234586208839.\n",
            "/home/ABTLUS/james.almeida/anaconda3/lib/python3.9/site-packages/sklearn/metrics/_regression.py:483: FutureWarning: 'squared' is deprecated in version 1.4 and will be removed in 1.6. To calculate the root mean squared error, use the function'root_mean_squared_error'.\n",
            "  warnings.warn(\n",
            "[I 2024-05-06 13:55:37,745] Trial 35 finished with value: 0.2862448418488289 and parameters: {'n_estimators': 67, 'max_depth': 10, 'min_child_weight': 5, 'gamma': 0.1904067694587413, 'learning_rate': 0.2736108650646733, 'subsample': 0.6949980675493328, 'colsample_bytree': 0.5763669153362198}. Best is trial 7 with value: 0.2682234586208839.\n",
            "/home/ABTLUS/james.almeida/anaconda3/lib/python3.9/site-packages/sklearn/metrics/_regression.py:483: FutureWarning: 'squared' is deprecated in version 1.4 and will be removed in 1.6. To calculate the root mean squared error, use the function'root_mean_squared_error'.\n",
            "  warnings.warn(\n",
            "[I 2024-05-06 13:56:10,860] Trial 36 finished with value: 0.27882859042091174 and parameters: {'n_estimators': 155, 'max_depth': 11, 'min_child_weight': 4, 'gamma': 0.4952753285958834, 'learning_rate': 0.04450875349510945, 'subsample': 0.5580366619250731, 'colsample_bytree': 0.7139762469898745}. Best is trial 7 with value: 0.2682234586208839.\n",
            "/home/ABTLUS/james.almeida/anaconda3/lib/python3.9/site-packages/sklearn/metrics/_regression.py:483: FutureWarning: 'squared' is deprecated in version 1.4 and will be removed in 1.6. To calculate the root mean squared error, use the function'root_mean_squared_error'.\n",
            "  warnings.warn(\n",
            "[I 2024-05-06 13:56:35,052] Trial 37 finished with value: 0.27460325535485575 and parameters: {'n_estimators': 117, 'max_depth': 4, 'min_child_weight': 3, 'gamma': 0.37118328943625906, 'learning_rate': 0.06538789579995216, 'subsample': 0.7450269282907284, 'colsample_bytree': 0.6649971092833374}. Best is trial 7 with value: 0.2682234586208839.\n",
            "/home/ABTLUS/james.almeida/anaconda3/lib/python3.9/site-packages/sklearn/metrics/_regression.py:483: FutureWarning: 'squared' is deprecated in version 1.4 and will be removed in 1.6. To calculate the root mean squared error, use the function'root_mean_squared_error'.\n",
            "  warnings.warn(\n",
            "[I 2024-05-06 13:56:51,760] Trial 38 finished with value: 0.28325925681231656 and parameters: {'n_estimators': 78, 'max_depth': 12, 'min_child_weight': 4, 'gamma': 0.7229739978793489, 'learning_rate': 0.09604991312444724, 'subsample': 0.8031810819183001, 'colsample_bytree': 0.8384011005853576}. Best is trial 7 with value: 0.2682234586208839.\n",
            "/home/ABTLUS/james.almeida/anaconda3/lib/python3.9/site-packages/sklearn/metrics/_regression.py:483: FutureWarning: 'squared' is deprecated in version 1.4 and will be removed in 1.6. To calculate the root mean squared error, use the function'root_mean_squared_error'.\n",
            "  warnings.warn(\n",
            "[I 2024-05-06 13:57:19,413] Trial 39 finished with value: 0.2795107802621483 and parameters: {'n_estimators': 97, 'max_depth': 6, 'min_child_weight': 7, 'gamma': 0.5816343426948486, 'learning_rate': 0.0301138724390889, 'subsample': 0.6790703342761945, 'colsample_bytree': 0.6341938518842745}. Best is trial 7 with value: 0.2682234586208839.\n",
            "/home/ABTLUS/james.almeida/anaconda3/lib/python3.9/site-packages/sklearn/metrics/_regression.py:483: FutureWarning: 'squared' is deprecated in version 1.4 and will be removed in 1.6. To calculate the root mean squared error, use the function'root_mean_squared_error'.\n",
            "  warnings.warn(\n",
            "[I 2024-05-06 13:58:11,320] Trial 40 finished with value: 0.26829374407753925 and parameters: {'n_estimators': 253, 'max_depth': 15, 'min_child_weight': 1, 'gamma': 0.22863401012198337, 'learning_rate': 0.0547181022106106, 'subsample': 0.6461104066259392, 'colsample_bytree': 0.7403677251758087}. Best is trial 7 with value: 0.2682234586208839.\n"
          ]
        },
        {
          "name": "stderr",
          "output_type": "stream",
          "text": [
            "/home/ABTLUS/james.almeida/anaconda3/lib/python3.9/site-packages/sklearn/metrics/_regression.py:483: FutureWarning: 'squared' is deprecated in version 1.4 and will be removed in 1.6. To calculate the root mean squared error, use the function'root_mean_squared_error'.\n",
            "  warnings.warn(\n",
            "[I 2024-05-06 13:58:59,726] Trial 41 finished with value: 0.26971276740156314 and parameters: {'n_estimators': 273, 'max_depth': 16, 'min_child_weight': 1, 'gamma': 0.301307316983062, 'learning_rate': 0.05408116383285786, 'subsample': 0.644332576847926, 'colsample_bytree': 0.7484010157542207}. Best is trial 7 with value: 0.2682234586208839.\n",
            "/home/ABTLUS/james.almeida/anaconda3/lib/python3.9/site-packages/sklearn/metrics/_regression.py:483: FutureWarning: 'squared' is deprecated in version 1.4 and will be removed in 1.6. To calculate the root mean squared error, use the function'root_mean_squared_error'.\n",
            "  warnings.warn(\n",
            "[I 2024-05-06 13:59:45,784] Trial 42 finished with value: 0.27470230672942275 and parameters: {'n_estimators': 306, 'max_depth': 17, 'min_child_weight': 1, 'gamma': 0.22614225652499592, 'learning_rate': 0.05384795188971637, 'subsample': 0.625172351809693, 'colsample_bytree': 0.7476044916260682}. Best is trial 7 with value: 0.2682234586208839.\n",
            "/home/ABTLUS/james.almeida/anaconda3/lib/python3.9/site-packages/sklearn/metrics/_regression.py:483: FutureWarning: 'squared' is deprecated in version 1.4 and will be removed in 1.6. To calculate the root mean squared error, use the function'root_mean_squared_error'.\n",
            "  warnings.warn(\n",
            "[I 2024-05-06 14:00:49,027] Trial 43 finished with value: 0.27595994994975054 and parameters: {'n_estimators': 278, 'max_depth': 16, 'min_child_weight': 1, 'gamma': 0.3018797764704454, 'learning_rate': 0.036757177267221504, 'subsample': 0.6544765297027252, 'colsample_bytree': 0.8121261764444474}. Best is trial 7 with value: 0.2682234586208839.\n",
            "/home/ABTLUS/james.almeida/anaconda3/lib/python3.9/site-packages/sklearn/metrics/_regression.py:483: FutureWarning: 'squared' is deprecated in version 1.4 and will be removed in 1.6. To calculate the root mean squared error, use the function'root_mean_squared_error'.\n",
            "  warnings.warn(\n",
            "[I 2024-05-06 14:01:52,571] Trial 44 finished with value: 0.27235335271205297 and parameters: {'n_estimators': 255, 'max_depth': 18, 'min_child_weight': 2, 'gamma': 0.19814741978708983, 'learning_rate': 0.043521069346330744, 'subsample': 0.6068870682596877, 'colsample_bytree': 0.7194874581732374}. Best is trial 7 with value: 0.2682234586208839.\n",
            "/home/ABTLUS/james.almeida/anaconda3/lib/python3.9/site-packages/sklearn/metrics/_regression.py:483: FutureWarning: 'squared' is deprecated in version 1.4 and will be removed in 1.6. To calculate the root mean squared error, use the function'root_mean_squared_error'.\n",
            "  warnings.warn(\n",
            "[I 2024-05-06 14:03:22,837] Trial 45 finished with value: 0.27400761249469163 and parameters: {'n_estimators': 277, 'max_depth': 15, 'min_child_weight': 1, 'gamma': 0.16741047657469968, 'learning_rate': 0.026018859995368456, 'subsample': 0.571370125126444, 'colsample_bytree': 0.8930283252533775}. Best is trial 7 with value: 0.2682234586208839.\n",
            "/home/ABTLUS/james.almeida/anaconda3/lib/python3.9/site-packages/sklearn/metrics/_regression.py:483: FutureWarning: 'squared' is deprecated in version 1.4 and will be removed in 1.6. To calculate the root mean squared error, use the function'root_mean_squared_error'.\n",
            "  warnings.warn(\n",
            "[I 2024-05-06 14:04:16,859] Trial 46 finished with value: 0.2775880133802797 and parameters: {'n_estimators': 334, 'max_depth': 13, 'min_child_weight': 2, 'gamma': 0.13394965342635062, 'learning_rate': 0.05481176584179444, 'subsample': 0.5222904492063114, 'colsample_bytree': 0.7646800508068797}. Best is trial 7 with value: 0.2682234586208839.\n",
            "/home/ABTLUS/james.almeida/anaconda3/lib/python3.9/site-packages/sklearn/metrics/_regression.py:483: FutureWarning: 'squared' is deprecated in version 1.4 and will be removed in 1.6. To calculate the root mean squared error, use the function'root_mean_squared_error'.\n",
            "  warnings.warn(\n",
            "[I 2024-05-06 14:05:38,225] Trial 47 finished with value: 0.2767087002582293 and parameters: {'n_estimators': 220, 'max_depth': 14, 'min_child_weight': 1, 'gamma': 0.23719757907730457, 'learning_rate': 0.020464209854786107, 'subsample': 0.9034801606895548, 'colsample_bytree': 0.8527181705680968}. Best is trial 7 with value: 0.2682234586208839.\n"
          ]
        }
      ],
      "source": [
        "import optuna\n",
        "import xgboost as xgb\n",
        "from sklearn.metrics import mean_squared_error\n",
        "from sklearn.model_selection import train_test_split\n",
        "import numpy as np\n",
        "\n",
        "# Splitting the dataset into training and validation sets\n",
        "target = DeltaGs.loc[:,\"dG\"]\n",
        "X_train, X_valid, y_train, y_valid = train_test_split(df_index, target, random_state=42, test_size=0.20)\n",
        "\n",
        "def objective(trial):\n",
        "    # Define the hyperparameters to be tuned\n",
        "    param = {\n",
        "        'n_estimators': trial.suggest_int('n_estimators', 50, 400),\n",
        "        'max_depth': trial.suggest_int('max_depth', 3, 20),\n",
        "        'min_child_weight': trial.suggest_int('min_child_weight', 1, 10),\n",
        "        'gamma': trial.suggest_float('gamma', 0.1, 1.0, log=True),\n",
        "        'learning_rate': trial.suggest_float('learning_rate', 0.01, 0.3, log=True),\n",
        "        'subsample': trial.suggest_float('subsample', 0.5, 1.0),\n",
        "        'colsample_bytree': trial.suggest_float('colsample_bytree', 0.5, 1.0),\n",
        "    }\n",
        "\n",
        "    # Create and fit the model\n",
        "    model = xgb.XGBRegressor(**param, early_stopping_rounds=50)\n",
        "    model.fit(X_train, y_train, eval_set=[(X_valid, y_valid)], verbose=False)\n",
        "\n",
        "    # Predict and calculate the error\n",
        "    preds = model.predict(X_valid)\n",
        "    rmse = mean_squared_error(y_valid, preds, squared=False)\n",
        "\n",
        "    return rmse\n",
        "\n",
        "# Create a study object and optimize the objective function\n",
        "study = optuna.create_study(direction='minimize')\n",
        "study.optimize(objective, n_trials=100)\n",
        "\n",
        "# Best hyperparameters\n",
        "best_params = study.best_params\n",
        "print('Best parameters:', best_params)"
      ]
    },
    {
      "cell_type": "markdown",
      "id": "38be5486",
      "metadata": {
        "id": "38be5486"
      },
      "source": []
    },
    {
      "cell_type": "markdown",
      "id": "ae35d74f",
      "metadata": {
        "id": "ae35d74f"
      },
      "source": [
        "### Perform the train/test split"
      ]
    },
    {
      "cell_type": "code",
      "execution_count": null,
      "id": "a19e245a",
      "metadata": {
        "id": "a19e245a"
      },
      "outputs": [],
      "source": [
        "from sklearn.model_selection import train_test_split\n",
        "\n",
        "target = DeltaGs.loc[:,\"dG\"]\n",
        "xtrain, xtest, ytrain, ytest = train_test_split(df_index, target, random_state=42, test_size=0.20)"
      ]
    },
    {
      "cell_type": "markdown",
      "id": "35eccf1e",
      "metadata": {
        "id": "35eccf1e"
      },
      "source": [
        "### Train the XGBoost method"
      ]
    },
    {
      "cell_type": "code",
      "execution_count": null,
      "id": "a0e07323",
      "metadata": {
        "id": "a0e07323"
      },
      "outputs": [],
      "source": [
        "import xgboost as xgb\n",
        "from sklearn.metrics import mean_squared_error\n",
        "from sklearn.metrics import mean_absolute_error\n",
        "\n",
        "xgbr = xgb.XGBRegressor(**best_params)\n",
        "'''                        tree_method=\"hist\",\n",
        "                        n_estimators = 1000,\n",
        "                        learning_rate = 0.09,\n",
        "                        gamma = 1,\n",
        "                        subsample=0.1,\n",
        "                        colsample_bytree = 0.4,\n",
        "                        max_depth = 5,\n",
        "                        enable_categorical=False,\n",
        "                        njobs=4)\n",
        "'''\n",
        "xgbr.fit(xtrain, ytrain)\n",
        "\n",
        "y_pred = xgbr.predict(xtest)\n",
        "y_pred_train = xgbr.predict(xtrain)"
      ]
    },
    {
      "cell_type": "code",
      "execution_count": null,
      "id": "a9f3f650",
      "metadata": {
        "id": "a9f3f650",
        "outputId": "e7392735-a51a-48f3-8a31-9b0bdb7a81ef"
      },
      "outputs": [
        {
          "name": "stdout",
          "output_type": "stream",
          "text": [
            "MAE test = 0.20234988377351715 eV MAE train = 0.06008965542588373 eV\n",
            "RMSE test = 0.26441984931811996 eV RMSE train = 0.08221473495534125 eV\n"
          ]
        }
      ],
      "source": [
        "mae_test=mean_absolute_error(ytest, y_pred)\n",
        "mae_train=mean_absolute_error(ytrain, y_pred_train)\n",
        "RMSE = mean_squared_error(ytest, y_pred, squared=False)\n",
        "RMSE_train = mean_squared_error(ytrain, y_pred_train, squared=False)\n",
        "print(\"MAE test =\", mae_test, 'eV', \"MAE train =\", mae_train, 'eV')\n",
        "print(\"RMSE test =\", RMSE, 'eV', \"RMSE train =\", RMSE_train, 'eV')"
      ]
    },
    {
      "cell_type": "markdown",
      "id": "21180eb8",
      "metadata": {
        "id": "21180eb8"
      },
      "source": [
        "### Plot the test/train data comparing to the ideal line."
      ]
    },
    {
      "cell_type": "code",
      "execution_count": null,
      "id": "00164166",
      "metadata": {
        "id": "00164166",
        "outputId": "e393be17-11b4-4744-8adf-da436cdd1c60",
        "scrolled": true
      },
      "outputs": [
        {
          "data": {
            "image/png": "[encoded data removed]",
            "text/plain": [
              "<Figure size 432x288 with 1 Axes>"
            ]
          },
          "metadata": {
            "needs_background": "light"
          },
          "output_type": "display_data"
        }
      ],
      "source": [
        "import numpy as np\n",
        "import matplotlib.pyplot as plt\n",
        "\n",
        "plt.scatter(ytrain,y_pred_train, label='Train')\n",
        "plt.scatter(ytest,y_pred, label='Test')\n",
        "# Plot the 45-degree line (line with angular coefficient of 1)\n",
        "x_line = np.linspace(min(ytest), max(ytest), 100)\n",
        "plt.plot(x_line, x_line, color='red', linestyle='-', linewidth=2, label='Ideal')\n",
        "\n",
        "plt.xlabel('True')\n",
        "plt.ylabel('Predicted')\n",
        "plt.legend()\n",
        "\n",
        "plt.show()"
      ]
    },
    {
      "cell_type": "markdown",
      "id": "c3e56f2e",
      "metadata": {
        "id": "c3e56f2e"
      },
      "source": [
        "<font color='red' size='5'>\n",
        "The optimized model overfitted a bit, needs to investigate why\n",
        "</font>"
      ]
    },
    {
      "cell_type": "code",
      "execution_count": null,
      "id": "fc1a0e9e",
      "metadata": {
        "id": "fc1a0e9e",
        "outputId": "59e0b2a8-d955-4d25-dc12-a3a7352bf77a",
        "scrolled": true
      },
      "outputs": [
        {
          "data": {
            "image/png": "[encoded data removed]",
            "text/plain": [
              "<Figure size 432x288 with 1 Axes>"
            ]
          },
          "metadata": {
            "needs_background": "light"
          },
          "output_type": "display_data"
        }
      ],
      "source": [
        "#DeltaGs['dG'].hist(bins=50, figsize=(15, 10))  # Adjust the number of bins and figure size as needed\n",
        "#y_pred_train.hist(bins=50, figsize=(15, 10))  # Adjust the number of bins and figure size as needed\n",
        "#y_pred.hist(bins=50, figsize=(15, 10))  # Adjust the number of bins and figure size as needed\n",
        "\n",
        "plt.hist(DeltaGs['dG'].values, bins=100, label='True')  # 'bins' defines the number of intervals or 'buckets'\n",
        "plt.hist(y_pred_train, bins=100, label='Train')  # 'bins' defines the number of intervals or 'buckets'\n",
        "plt.hist(y_pred, bins=100, label='Test')  # 'bins' defines the number of intervals or 'buckets'\n",
        "plt.title(\"Histogram\")\n",
        "plt.xlabel(\"Value\")\n",
        "plt.ylabel(\"Frequency\")\n",
        "plt.legend()\n",
        "plt.show()"
      ]
    },
    {
      "cell_type": "markdown",
      "id": "22ffcf98",
      "metadata": {
        "id": "22ffcf98"
      },
      "source": [
        "### Random Forest Model"
      ]
    },
    {
      "cell_type": "code",
      "execution_count": null,
      "id": "19fbef3d",
      "metadata": {
        "id": "19fbef3d",
        "scrolled": false
      },
      "outputs": [],
      "source": [
        "from sklearn.ensemble import RandomForestRegressor\n",
        "\n",
        "model = RandomForestRegressor(\n",
        "        n_estimators=100,\n",
        "        max_leaf_nodes=None,\n",
        "        max_depth=30,\n",
        "        n_jobs=8,\n",
        "        max_features='sqrt'\n",
        "    )\n",
        "\n",
        "model.fit(xtrain, ytrain)\n",
        "\n",
        "y_true = ytest\n",
        "y_pred = model.predict(xtest)\n",
        "y_pred_train = model.predict(xtrain)\n",
        "\n",
        "RMSE = mean_squared_error(y_true, y_pred, squared=False)\n",
        "RMSE_train = mean_squared_error(ytrain, y_pred_train, squared=False)\n",
        "mae_test=mean_absolute_error(ytest, y_pred)\n",
        "mae_train=mean_absolute_error(ytrain, y_pred_train)\n",
        "\n",
        "print(\"MAE test =\", mae_test, \"MAE train =\", mae_train)\n",
        "print(f\"RMSE test {RMSE} eV.\", f\"RMSE train {RMSE_train} eV.\")\n",
        "\n",
        "# Plot the scatter plot\n",
        "plt.scatter(ytrain, y_pred_train, label='Train')\n",
        "plt.scatter(y_true, y_pred, label='Test')\n",
        "\n",
        "# Plot the 45-degree line (line with angular coefficient of 1)\n",
        "x_line = np.linspace(min(y_true), max(y_true), 100)\n",
        "plt.plot(x_line, x_line, color='red', linestyle='-', linewidth=2, label='Ideal')\n",
        "\n",
        "plt.xlabel('True')\n",
        "plt.ylabel('Predicted')\n",
        "plt.legend()\n",
        "plt.show()"
      ]
    },
    {
      "cell_type": "markdown",
      "id": "d9684a21",
      "metadata": {
        "id": "d9684a21"
      },
      "source": [
        "### Neural Network"
      ]
    },
    {
      "cell_type": "code",
      "execution_count": null,
      "id": "61424145",
      "metadata": {
        "id": "61424145",
        "scrolled": true
      },
      "outputs": [],
      "source": [
        "from sklearn.neural_network import MLPRegressor\n",
        "\n",
        "from sklearn.preprocessing import MinMaxScaler\n",
        "\n",
        "normalizador_x = MinMaxScaler()\n",
        "normalizador_y = MinMaxScaler()\n",
        "\n",
        "normalizador_x.fit(xtrain)\n",
        "normalizador_y.fit(ytrain.values.reshape(-1, 1))\n",
        "normalizador_x.fit(xtest)\n",
        "normalizador_y.fit(ytest.values.reshape(-1, 1))\n",
        "#xtrain = xtrain.values.ravel()\n",
        "#ytrain = ytrain.values.ravel()\n",
        "#xtest = xtest.values.ravel()\n",
        "#ytest = ytest.values.ravel()\n",
        "\n",
        "print(len(xtrain.keys()))\n",
        "model = MLPRegressor(hidden_layer_sizes=(200,200,200), max_iter=1000)\n",
        "model.fit(xtrain, ytrain)\n",
        "\n",
        "y_true = ytest\n",
        "y_pred = model.predict(xtest)\n",
        "y_pred_train = model.predict(xtrain)\n",
        "\n",
        "RMSE = mean_squared_error(y_true, y_pred, squared=False)\n",
        "RMSE_train = mean_squared_error(ytrain, y_pred_train, squared=False)\n",
        "mae_test=mean_absolute_error(ytest, y_pred)\n",
        "mae_train=mean_absolute_error(ytrain, y_pred_train)\n",
        "\n",
        "print(\"MAE test =\", mae_test, \"MAE train =\", mae_train)\n",
        "print(f\"RMSE test {RMSE} eV.\", f\"RMSE train {RMSE_train} eV.\")\n",
        "\n",
        "# Plot the scatter plot\n",
        "plt.scatter(ytrain, y_pred_train, label='Train')\n",
        "plt.scatter(y_true, y_pred, label='Test')\n",
        "\n",
        "# Plot the 45-degree line (line with angular coefficient of 1)\n",
        "x_line = np.linspace(min(y_true), max(y_true), 100)\n",
        "plt.plot(x_line, x_line, color='red', linestyle='-', linewidth=2, label='Ideal')\n",
        "\n",
        "plt.xlabel('True')\n",
        "plt.ylabel('Predicted')\n",
        "plt.legend()\n",
        "plt.show()"
      ]
    },
    {
      "cell_type": "code",
      "execution_count": null,
      "id": "6e2d5c70",
      "metadata": {
        "id": "6e2d5c70"
      },
      "outputs": [],
      "source": [
        "plt.hist(DeltaGs['dG'].values, bins=100, label='True')  # 'bins' defines the number of intervals or 'buckets'\n",
        "plt.hist(y_pred_train, bins=100, label='Train')  # 'bins' defines the number of intervals or 'buckets'\n",
        "plt.hist(y_pred, bins=100, label='Test')  # 'bins' defines the number of intervals or 'buckets'\n",
        "plt.title(\"Histogram\")\n",
        "plt.xlabel(\"Value\")\n",
        "plt.ylabel(\"Frequency\")\n",
        "plt.legend()\n",
        "plt.show()"
      ]
    },
    {
      "cell_type": "markdown",
      "id": "2999d978",
      "metadata": {
        "id": "2999d978"
      },
      "source": [
        "# Inference Section"
      ]
    },
    {
      "cell_type": "markdown",
      "id": "1c2f0ba7",
      "metadata": {
        "id": "1c2f0ba7"
      },
      "source": [
        "### Let's generate the nanoparticles for inference."
      ]
    },
    {
      "cell_type": "code",
      "execution_count": null,
      "id": "314bc6cd",
      "metadata": {
        "id": "314bc6cd"
      },
      "outputs": [],
      "source": [
        "species = ['Pd', 'Pt', 'Ag', 'Cu', 'Au']"
      ]
    },
    {
      "cell_type": "code",
      "execution_count": null,
      "id": "4175d4c2",
      "metadata": {
        "id": "4175d4c2"
      },
      "outputs": [],
      "source": [
        "import random\n",
        "from ase import Atoms\n",
        "\n",
        "all_inference_structures = list()\n",
        "coordinates = original_coordinates\n",
        "num_atm = 55\n",
        "\n",
        "for i in range(0,100000):\n",
        "    np_species = list()\n",
        "    for atm in range(num_atm):\n",
        "        np_species.append(random.choice(species))\n",
        "    np_species.append('H')\n",
        "    #print(len(np_species))\n",
        "    #print(np_species)\n",
        "    inference_structure = Atoms(np_species, positions=coordinates)\n",
        "    all_inference_structures.append(inference_structure)"
      ]
    },
    {
      "cell_type": "markdown",
      "id": "69d43f82",
      "metadata": {
        "id": "69d43f82"
      },
      "source": [
        "<font color='red' size='5'>\n",
        "Tryed 1 million structures, but memory exploded when SOAPfying. 100 thousand should be enough.\n",
        "</font>"
      ]
    },
    {
      "cell_type": "code",
      "execution_count": null,
      "id": "3ffbaf66",
      "metadata": {
        "id": "3ffbaf66",
        "outputId": "588fb88d-81ac-4c8b-e1b8-39d0755ee632"
      },
      "outputs": [
        {
          "name": "stdout",
          "output_type": "stream",
          "text": [
            "['Pd', 'Pt', 'Ag', 'Cu', 'Au', 'H']\n",
            "Feature Vector 100000\n",
            "<class 'numpy.ndarray'>\n",
            "Number of features 10584\n"
          ]
        }
      ],
      "source": [
        "species_soap = species + ['H']\n",
        "print(species_soap)\n",
        "\n",
        "feature_vectors = soap.create(all_inference_structures, n_jobs=4)\n",
        "\n",
        "print(\"Feature Vector\", len(feature_vectors))\n",
        "print(type(feature_vectors))\n",
        "print('Number of features', soap.get_number_of_features())\n",
        "#soap_features = pd.DataFrame(feature_vectors)"
      ]
    },
    {
      "cell_type": "code",
      "execution_count": null,
      "id": "8640188b",
      "metadata": {
        "id": "8640188b"
      },
      "outputs": [],
      "source": [
        "predictions = xgbr.predict(feature_vectors)"
      ]
    },
    {
      "cell_type": "code",
      "execution_count": null,
      "id": "64ade22e",
      "metadata": {
        "id": "64ade22e",
        "outputId": "31076055-9343-4527-9c18-a9143d8cae4b",
        "scrolled": true
      },
      "outputs": [
        {
          "data": {
            "image/png": "[encoded data removed]",
            "text/plain": [
              "<Figure size 432x288 with 1 Axes>"
            ]
          },
          "metadata": {
            "needs_background": "light"
          },
          "output_type": "display_data"
        }
      ],
      "source": [
        "plt.hist(predictions, bins=100)  # 'bins' defines the number of intervals or 'buckets'\n",
        "plt.title(\"Histogram\")\n",
        "plt.xlabel(\"Value\")\n",
        "plt.ylabel(\"Frequency\")\n",
        "plt.show()"
      ]
    },
    {
      "cell_type": "code",
      "execution_count": null,
      "id": "706b088f",
      "metadata": {
        "id": "706b088f",
        "outputId": "d5f92f07-03ad-4cfb-888f-bf84ef2ee308"
      },
      "outputs": [
        {
          "name": "stdout",
          "output_type": "stream",
          "text": [
            "Number of filtered elements close to zero: 40\n",
            "Filtered indices close to zero: [  606  2169  5509  6257 11854 15712 20755 23656 29174 33429 35367 36054\n",
            " 42231 44584 48788 49998 50014 54264 54424 58726 62608 62794 63533 64948\n",
            " 65979 66046 66505 69192 73008 77075 78902 79985 84753 85442 90919 91114\n",
            " 96707 96759 96994 97598]\n",
            "Number of filtered elements low: 24\n",
            "Filtered indices low: [ 2223  7610  7804 14848 24123 26457 53097 55577 59112 59883 60454 61661\n",
            " 62914 68961 70260 70618 75464 77249 77302 79161 81671 86812 94506 98721]\n",
            "Number of filtered elements high: 27\n",
            "Filtered indices high: [  293  3876  5859 20258 25507 31053 35138 35347 35862 40455 44545 47689\n",
            " 49695 50231 54856 58851 62985 63360 67094 74195 75477 77113 84834 88023\n",
            " 90135 90205 98196]\n"
          ]
        }
      ],
      "source": [
        "filtered_indices_zero = np.where((predictions > -0.0001) & (predictions < 0.0001))[0]\n",
        "print(\"Number of filtered elements close to zero:\", len(filtered_indices_zero))\n",
        "print(\"Filtered indices close to zero:\", filtered_indices_zero)\n",
        "\n",
        "filtered_indices_low = np.where((predictions < -0.45))[0]\n",
        "print(\"Number of filtered elements low:\", len(filtered_indices_low))\n",
        "print(\"Filtered indices low:\", filtered_indices_low)\n",
        "\n",
        "filtered_indices_high = np.where((predictions > 0.425))[0]\n",
        "print(\"Number of filtered elements high:\", len(filtered_indices_high))\n",
        "print(\"Filtered indices high:\", filtered_indices_high)\n"
      ]
    },
    {
      "cell_type": "code",
      "execution_count": null,
      "id": "d7018052",
      "metadata": {
        "id": "d7018052"
      },
      "outputs": [],
      "source": [
        "for index in filtered_indices_zero:\n",
        "    filename = f'Suggestions_run1/structure_suggestion_zero{index:06}.xyz'\n",
        "    atom_structure = all_inference_structures[index]\n",
        "\n",
        "    # Get existing coordinates\n",
        "    coordinates = atom_structure.get_positions()\n",
        "\n",
        "    # Get and append the symbol\n",
        "    symbols = atom_structure.get_chemical_symbols()\n",
        "\n",
        "    with open(filename, 'w') as file:\n",
        "        file.write(str(len(symbols)) + '\\n')  # Writing the updated atom count\n",
        "        file.write('Predicted dG: ' + str(predictions[index]) + '\\n')\n",
        "\n",
        "        for symbol, coordinate in zip(symbols, coordinates):\n",
        "            file.write(f'{symbol} {coordinate[0]} {coordinate[1]} {coordinate[2]}\\n')\n"
      ]
    },
    {
      "cell_type": "code",
      "execution_count": null,
      "id": "a00802fb",
      "metadata": {
        "id": "a00802fb"
      },
      "outputs": [],
      "source": [
        "for index in filtered_indices_low:\n",
        "    filename = f'Suggestions_run1/structure_suggestion_low{index:06}.xyz'\n",
        "    atom_structure = all_inference_structures[index]\n",
        "\n",
        "    # Get existing coordinates\n",
        "    coordinates = atom_structure.get_positions()\n",
        "\n",
        "    # Get and append the symbol\n",
        "    symbols = atom_structure.get_chemical_symbols()\n",
        "\n",
        "    with open(filename, 'w') as file:\n",
        "        file.write(str(len(symbols)) + '\\n')  # Writing the updated atom count\n",
        "        file.write('Predicted dG: ' + str(predictions[index]) + '\\n')\n",
        "\n",
        "        for symbol, coordinate in zip(symbols, coordinates):\n",
        "            file.write(f'{symbol} {coordinate[0]} {coordinate[1]} {coordinate[2]}\\n')\n"
      ]
    },
    {
      "cell_type": "code",
      "execution_count": null,
      "id": "d5fb921c",
      "metadata": {
        "id": "d5fb921c"
      },
      "outputs": [],
      "source": [
        "for index in filtered_indices_high:\n",
        "    filename = f'Suggestions_run1/structure_suggestion_high{index:06}.xyz'\n",
        "    atom_structure = all_inference_structures[index]\n",
        "\n",
        "    # Get existing coordinates\n",
        "    coordinates = atom_structure.get_positions()\n",
        "\n",
        "    # Get and append the symbol\n",
        "    symbols = atom_structure.get_chemical_symbols()\n",
        "\n",
        "    with open(filename, 'w') as file:\n",
        "        file.write(str(len(symbols)) + '\\n')  # Writing the updated atom count\n",
        "        file.write('Predicted dG: ' + str(predictions[index]) + '\\n')\n",
        "\n",
        "        for symbol, coordinate in zip(symbols, coordinates):\n",
        "            file.write(f'{symbol} {coordinate[0]} {coordinate[1]} {coordinate[2]}\\n')\n"
      ]
    },
    {
      "cell_type": "code",
      "execution_count": null,
      "id": "5f5f2794",
      "metadata": {
        "id": "5f5f2794"
      },
      "outputs": [],
      "source": []
    }
  ],
  "metadata": {
    "colab": {
      "provenance": [],
      "include_colab_link": true
    },
    "kernelspec": {
      "display_name": "Python 3 (ipykernel)",
      "language": "python",
      "name": "python3"
    },
    "language_info": {
      "codemirror_mode": {
        "name": "ipython",
        "version": 3
      },
      "file_extension": ".py",
      "mimetype": "text/x-python",
      "name": "python",
      "nbconvert_exporter": "python",
      "pygments_lexer": "ipython3",
      "version": "3.9.7"
    }
  },
  "nbformat": 4,
  "nbformat_minor": 5
}